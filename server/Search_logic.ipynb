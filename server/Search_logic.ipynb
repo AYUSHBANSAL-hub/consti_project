{
  "cells": [
    {
      "cell_type": "code",
      "execution_count": 3,
      "metadata": {},
      "outputs": [],
      "source": [
        "import re \n",
        "import os\n",
        "import json\n",
        "import networkx as nx\n",
        "import pandas as pd"
      ]
    },
    {
      "cell_type": "code",
      "execution_count": 4,
      "metadata": {},
      "outputs": [],
      "source": [
        "# from src.extract_time.llama3_time_extract import llama3_time_extract\n",
        "\n",
        "# time_extractor = llama3_time_extract()"
      ]
    },
    {
      "cell_type": "code",
      "execution_count": 5,
      "metadata": {},
      "outputs": [],
      "source": [
        "# res = time_extractor(\"What is the bby sales from jan to jul 2023\")\n",
        "# res"
      ]
    },
    {
      "cell_type": "code",
      "execution_count": 6,
      "metadata": {},
      "outputs": [],
      "source": [
        "# from datetime import datetime\n",
        "# import calendar\n",
        "# from dateutil.relativedelta import relativedelta\n",
        "\n",
        "# # time_json = \"\"\"{\n",
        "# #   \"statement\": \"What is the bby sales from jan to jul 2023\",\n",
        "# #   \"dates\": [\n",
        "# #     {\n",
        "# #       \"date\": null,\n",
        "# #       \"time\": null,\n",
        "# #       \"period\": [\"January 2023\", \"July\"],\n",
        "# #       \"frequency\": null\n",
        "# #     }\n",
        "# #   ]\n",
        "# # }\"\"\"\n",
        "\n",
        "# def extract_date_conditions(time_json):\n",
        "#     ### last week, last month, last year -> current data\n",
        "#     ### if not given year -> max year in data\n",
        "#     current_year = datetime.now().year\n",
        "\n",
        "#     date_pat = r'\"date\": \\[(.*)\\]'\n",
        "#     time_pat = r'\"time\": \\[(.*)\\]'\n",
        "#     period_pat = r'\"period\": \\[(.*)\\]'\n",
        "#     freq_pat = r'\"frequency\": \\[(.*)\\]'\n",
        "#     months = [\"January\", \"February\", \"March\", \"April\", \"May\", \"June\", \"July\", \"August\", \"September\", \"October\", \"November\", \"December\"]\n",
        "#     year_pat = r'\\d{4}'\n",
        "#     dates = re.search(date_pat, time_json)\n",
        "#     time = re.search(time_pat, time_json)\n",
        "#     period = re.search(period_pat, time_json)\n",
        "#     freq = re.search(freq_pat, time_json)\n",
        "#     start_date = end_date = None\n",
        "#     if dates:\n",
        "#         dates = dates.group(1)\n",
        "#         dates = dates.split(\",\")\n",
        "#         dates = [d.strip().strip('\"') for d in dates]\n",
        "        \n",
        "#         dates = [datetime.strptime(date, r'%Y-%m-%d') for date in dates]\n",
        "        \n",
        "#         start_date = min(dates)\n",
        "#         end_date = max(dates)\n",
        "#     if time:\n",
        "#         pass\n",
        "#     if not start_date or not end_date:\n",
        "#         if period:\n",
        "#             period = period.group(1)\n",
        "#             period = period.split(\",\")\n",
        "#             if not len(period)> 2:   \n",
        "#                 period = [p.strip().strip('\"').strip() for p in period]\n",
        "            \n",
        "#             # Handle the case where only one item is provided\n",
        "#             if len(period) == 1:\n",
        "#                 # Parse the single date (either with month and year, or just month)\n",
        "#                 try:\n",
        "#                     date = datetime.strptime(period[0], \"%B %Y\")\n",
        "#                 except ValueError:\n",
        "#                     date = datetime.strptime(period[0], \"%B\")\n",
        "#                     date = date.replace(year=current_year)  # Default to the current year\n",
        "\n",
        "#                 # Start date is the 1st of the month\n",
        "#                 start_date_p = date.replace(day=1)\n",
        "#                 # End date is the last day of the month\n",
        "#                 end_date_p = date.replace(day=calendar.monthrange(date.year, date.month)[1])\n",
        "\n",
        "#             # Handle the case where two items are provided\n",
        "#             elif len(period) == 2:\n",
        "#                 # Parse the first item as the start date\n",
        "#                 try:\n",
        "#                     start_date_p = datetime.strptime(period[0], \"%B %Y\")\n",
        "#                 except ValueError:\n",
        "#                     start_date_p = datetime.strptime(period[0], \"%B\")\n",
        "#                     start_date_p = start_date_p.replace(year=current_year)  # Default to the current year\n",
        "#                 start_date_p = start_date_p.replace(day=1)  # Set the day as 1\n",
        "\n",
        "#                 # Parse the second item as the end date\n",
        "#                 try:\n",
        "#                     end_date_p = datetime.strptime(period[1], \"%B %Y\")\n",
        "#                 except ValueError:\n",
        "#                     end_date_p = datetime.strptime(period[1], \"%B\")\n",
        "#                     end_date_p = end_date_p.replace(year=current_year)  # Default to the current year\n",
        "#                 # Set the end date as the last day of the month\n",
        "#                 end_date_p = end_date_p.replace(day=calendar.monthrange(end_date_p.year, end_date_p.month)[1])\n",
        "#             if start_date:\n",
        "#                 start_date = min(start_date_p, start_date)\n",
        "#             else:\n",
        "#                 start_date = start_date_p\n",
        "#             if end_date:\n",
        "#                 end_date = max(end_date_p, end_date)\n",
        "#             else:\n",
        "#                 end_date = end_date_p\n",
        "#     return start_date, end_date\n"
      ]
    },
    {
      "cell_type": "code",
      "execution_count": 7,
      "metadata": {},
      "outputs": [],
      "source": [
        "# start_date, end_date = extract_date_conditions(res)"
      ]
    },
    {
      "cell_type": "code",
      "execution_count": 8,
      "metadata": {},
      "outputs": [],
      "source": [
        "# start_date, end_date"
      ]
    },
    {
      "cell_type": "code",
      "execution_count": 9,
      "metadata": {},
      "outputs": [],
      "source": [
        "from src.Utils.load_funcs import *\n",
        "from src.gmd_utils.search_in_meta_data import *\n",
        "from src.graph_utils.Graph_funcs import find_edge_attributes_with_indirect_connections\n",
        "from src.query_data.query_exceptions import separate_exception_entities\n",
        "from src.query_data.filters_and_aggregation_search import extract_comparisons, extract_aggregations, extract_top_or_bottom_n\n",
        "from src.query_data.get_data_helper import filter_values_handler, comparison_handler, outer_join_all_columns\n",
        "from src.query_data.get_data import fetch_required_data_and_apply_filters"
      ]
    },
    {
      "cell_type": "code",
      "execution_count": 10,
      "metadata": {},
      "outputs": [
        {
          "data": {
            "image/png": "[encoded data removed]",
            "text/plain": [
              "<Figure size 640x480 with 1 Axes>"
            ]
          },
          "metadata": {},
          "output_type": "display_data"
        }
      ],
      "source": [
        "id_graph = load_graph('test_id_graph.gml')\n",
        "pos = nx.kamada_kawai_layout(id_graph)  # Deterministic layout\n",
        "nx.draw(id_graph, pos, with_labels=True, node_color='lightgreen', node_size=1000, font_size=12)"
      ]
    },
    {
      "cell_type": "code",
      "execution_count": 11,
      "metadata": {},
      "outputs": [
        {
          "data": {
            "image/png": "[encoded data removed]",
            "text/plain": [
              "<Figure size 640x480 with 1 Axes>"
            ]
          },
          "metadata": {},
          "output_type": "display_data"
        }
      ],
      "source": [
        "graph = load_graph()\n",
        "pos = nx.circular_layout(graph)\n",
        "nx.draw(graph, pos, with_labels=True, node_color='lightgreen', node_size=1000, font_size=12)"
      ]
    },
    {
      "cell_type": "code",
      "execution_count": 12,
      "metadata": {},
      "outputs": [],
      "source": [
        "from src.Insight_logic.trigger_global_configs import Global_Checks"
      ]
    },
    {
      "cell_type": "code",
      "execution_count": 13,
      "metadata": {},
      "outputs": [
        {
          "data": {
            "text/plain": [
              "{'Sales': {'thresholds': {'bestbuy': {'west': [7000, 500],\n",
              "    'east': [7000, 100],\n",
              "    'midwest': [7000, 100],\n",
              "    'northeast': [7000, 100],\n",
              "    'northwest': [7000, 100],\n",
              "    'southeast': [7000, 100],\n",
              "    'southwest': [7000, 100],\n",
              "    'south': [7000, 100],\n",
              "    'north': [7000, 100]},\n",
              "   'walmart': {'west': [7000, 100],\n",
              "    'east': [7000, 100],\n",
              "    'midwest': [7000, 100],\n",
              "    'northeast': [7000, 100],\n",
              "    'northwest': [7000, 100],\n",
              "    'southeast': [7000, 100],\n",
              "    'southwest': [7000, 100],\n",
              "    'south': [7000, 100],\n",
              "    'north': [7000, 100]}},\n",
              "  'Trigger Check Columns': {'Up': ['week of supply'], 'Down': ['Traffic']}},\n",
              " 'Traffic': {'thresholds': {'bestbuy': {'west': [7000, 500],\n",
              "    'east': [7000, 100],\n",
              "    'midwest': [7000, 100],\n",
              "    'northeast': [7000, 100],\n",
              "    'northwest': [7000, 100],\n",
              "    'southeast': [7000, 100],\n",
              "    'southwest': [7000, 100],\n",
              "    'south': [7000, 100],\n",
              "    'north': [7000, 100]},\n",
              "   'walmart': {'west': [7000, 100],\n",
              "    'east': [7000, 100],\n",
              "    'midwest': [7000, 100],\n",
              "    'northeast': [7000, 100],\n",
              "    'northwest': [7000, 100],\n",
              "    'southeast': [7000, 100],\n",
              "    'southwest': [7000, 100],\n",
              "    'south': [7000, 100],\n",
              "    'north': [7000, 100]}},\n",
              "  'Trigger Check Columns': {'Up': [], 'Down': []}},\n",
              " 'week of supply': {'thresholds': {'bestbuy': {'west': [284750, 28475],\n",
              "    'east': [7000, 100],\n",
              "    'midwest': [7000, 100],\n",
              "    'northeast': [7000, 100],\n",
              "    'northwest': [7000, 100],\n",
              "    'southeast': [7000, 100],\n",
              "    'southwest': [7000, 100],\n",
              "    'south': [7000, 100],\n",
              "    'north': [7000, 100]},\n",
              "   'walmart': {'west': [7000, 100],\n",
              "    'east': [7000, 100],\n",
              "    'midwest': [7000, 100],\n",
              "    'northeast': [7000, 100],\n",
              "    'northwest': [7000, 100],\n",
              "    'southeast': [7000, 100],\n",
              "    'southwest': [7000, 100],\n",
              "    'south': [7000, 100],\n",
              "    'north': [7000, 100]}},\n",
              "  'Trigger Check Columns': {'Up': [], 'Down': []}}}"
            ]
          },
          "execution_count": 13,
          "metadata": {},
          "output_type": "execute_result"
        }
      ],
      "source": [
        "Global_Checks"
      ]
    },
    {
      "cell_type": "code",
      "execution_count": 14,
      "metadata": {},
      "outputs": [],
      "source": [
        "from src.Insight_logic.trigger_global_configs import Global_Checks\n",
        "\n",
        "##Custom for now else can use company checks itself\n",
        "to_be_checked = ['Sales']\n",
        "available_cols_in_graph = list(graph.nodes)\n",
        "\n",
        "company_checks = Global_Checks.copy()\n",
        "for i in Global_Checks:\n",
        "    if i in available_cols_in_graph:\n",
        "        # trig_cols = []\n",
        "        for j in Global_Checks[i]['Trigger Check Columns']:\n",
        "            cols_present = list(set(Global_Checks[i]['Trigger Check Columns'][j]) & set(available_cols_in_graph))\n",
        "            if len(cols_present) > 0:\n",
        "                company_checks[i]['Trigger Check Columns'][j] = cols_present\n",
        "        # new_trig_check = {}\n",
        "        # for j in cols_present:\n",
        "        #     new_trig_check[j] = Global_Checks[i]['Trigger Check Columns'][j]\n",
        "        # company_checks[i]['Trigger Check Columns'] = new_trig_check\n"
      ]
    },
    {
      "cell_type": "code",
      "execution_count": 15,
      "metadata": {},
      "outputs": [],
      "source": [
        "# with open('company_checks.json', 'w') as fp:\n",
        "#     json.dump(company_checks, fp)"
      ]
    },
    {
      "cell_type": "code",
      "execution_count": 16,
      "metadata": {},
      "outputs": [
        {
          "data": {
            "text/plain": [
              "{'Sales': {'thresholds': {'bestbuy': {'west': [7000, 500],\n",
              "    'east': [7000, 100],\n",
              "    'midwest': [7000, 100],\n",
              "    'northeast': [7000, 100],\n",
              "    'northwest': [7000, 100],\n",
              "    'southeast': [7000, 100],\n",
              "    'southwest': [7000, 100],\n",
              "    'south': [7000, 100],\n",
              "    'north': [7000, 100]},\n",
              "   'walmart': {'west': [7000, 100],\n",
              "    'east': [7000, 100],\n",
              "    'midwest': [7000, 100],\n",
              "    'northeast': [7000, 100],\n",
              "    'northwest': [7000, 100],\n",
              "    'southeast': [7000, 100],\n",
              "    'southwest': [7000, 100],\n",
              "    'south': [7000, 100],\n",
              "    'north': [7000, 100]}},\n",
              "  'Trigger Check Columns': {'Up': ['week of supply'], 'Down': ['Traffic']}},\n",
              " 'Traffic': {'thresholds': {'bestbuy': {'west': [7000, 500],\n",
              "    'east': [7000, 100],\n",
              "    'midwest': [7000, 100],\n",
              "    'northeast': [7000, 100],\n",
              "    'northwest': [7000, 100],\n",
              "    'southeast': [7000, 100],\n",
              "    'southwest': [7000, 100],\n",
              "    'south': [7000, 100],\n",
              "    'north': [7000, 100]},\n",
              "   'walmart': {'west': [7000, 100],\n",
              "    'east': [7000, 100],\n",
              "    'midwest': [7000, 100],\n",
              "    'northeast': [7000, 100],\n",
              "    'northwest': [7000, 100],\n",
              "    'southeast': [7000, 100],\n",
              "    'southwest': [7000, 100],\n",
              "    'south': [7000, 100],\n",
              "    'north': [7000, 100]}},\n",
              "  'Trigger Check Columns': {'Up': [], 'Down': []}},\n",
              " 'week of supply': {'thresholds': {'bestbuy': {'west': [284750, 28475],\n",
              "    'east': [7000, 100],\n",
              "    'midwest': [7000, 100],\n",
              "    'northeast': [7000, 100],\n",
              "    'northwest': [7000, 100],\n",
              "    'southeast': [7000, 100],\n",
              "    'southwest': [7000, 100],\n",
              "    'south': [7000, 100],\n",
              "    'north': [7000, 100]},\n",
              "   'walmart': {'west': [7000, 100],\n",
              "    'east': [7000, 100],\n",
              "    'midwest': [7000, 100],\n",
              "    'northeast': [7000, 100],\n",
              "    'northwest': [7000, 100],\n",
              "    'southeast': [7000, 100],\n",
              "    'southwest': [7000, 100],\n",
              "    'south': [7000, 100],\n",
              "    'north': [7000, 100]}},\n",
              "  'Trigger Check Columns': {'Up': [], 'Down': []}}}"
            ]
          },
          "execution_count": 16,
          "metadata": {},
          "output_type": "execute_result"
        }
      ],
      "source": [
        "company_checks"
      ]
    },
    {
      "cell_type": "code",
      "execution_count": 17,
      "metadata": {},
      "outputs": [
        {
          "data": {
            "text/plain": [
              "['Sales']"
            ]
          },
          "execution_count": 17,
          "metadata": {},
          "output_type": "execute_result"
        }
      ],
      "source": [
        "to_be_checked"
      ]
    },
    {
      "cell_type": "code",
      "execution_count": 18,
      "metadata": {},
      "outputs": [
        {
          "data": {
            "text/plain": [
              "{'regexes': ['city'],\n",
              " 'Unique Values': ['Conklin',\n",
              "  'Dougherty',\n",
              "  'Hepler',\n",
              "  'Lowry City',\n",
              "  'Mode',\n",
              "  'Scribner',\n",
              "  'Searsboro',\n",
              "  'Sturgeon Lake',\n",
              "  'Volin',\n",
              "  'Vulcan',\n",
              "  'Cylinder',\n",
              "  'Fortville',\n",
              "  'Glen Ellyn',\n",
              "  'Lublin',\n",
              "  'North Royalton',\n",
              "  'Pilot Mound',\n",
              "  'Pleasant Plain',\n",
              "  'Saint Bonifacius',\n",
              "  'Trimont',\n",
              "  'Villa Park',\n",
              "  'Amesville',\n",
              "  'Beverly Shores',\n",
              "  'Champion',\n",
              "  'Darfur',\n",
              "  'Drayton',\n",
              "  'Gilman',\n",
              "  'Hollansburg',\n",
              "  'Swaledale',\n",
              "  'Thompsonville',\n",
              "  'Twin Valley',\n",
              "  'Cherryville',\n",
              "  'Davey',\n",
              "  'Frazee',\n",
              "  'Granville',\n",
              "  'Houghton Lake',\n",
              "  'Humphrey',\n",
              "  'Ida Grove',\n",
              "  'Kiel',\n",
              "  'Pearl',\n",
              "  'Whiting',\n",
              "  'Bannister',\n",
              "  'Grayridge',\n",
              "  'Lafayette',\n",
              "  'Lidgerwood',\n",
              "  'Pennington',\n",
              "  'Richland',\n",
              "  'Roseland',\n",
              "  'Stanton',\n",
              "  'Stout',\n",
              "  'Vickery',\n",
              "  'Burnt Cabins',\n",
              "  'East Norwich',\n",
              "  'Goshen',\n",
              "  'Irvington',\n",
              "  'Marathon',\n",
              "  'Marsteller',\n",
              "  'North Adams',\n",
              "  'Portland',\n",
              "  'Rooseveltown',\n",
              "  'Waterport',\n",
              "  'Bethlehem',\n",
              "  'Davenport',\n",
              "  'East Elmhurst',\n",
              "  'Forbes Road',\n",
              "  'Keene Valley',\n",
              "  'Marcus Hook',\n",
              "  'Point Pleasant',\n",
              "  'Port Matilda',\n",
              "  'Springvale',\n",
              "  'Tully',\n",
              "  'Aspers',\n",
              "  'Blooming Glen',\n",
              "  'Deerfield Street',\n",
              "  'Monsey',\n",
              "  'New Brighton',\n",
              "  'North Bergen',\n",
              "  'Pittstown',\n",
              "  'Port Carbon',\n",
              "  'Skillman',\n",
              "  'Tillson',\n",
              "  'Berwick',\n",
              "  'Codorus',\n",
              "  'Cumberland Foreside',\n",
              "  'Gilmanton',\n",
              "  'Glenwood Landing',\n",
              "  'Grantville',\n",
              "  'Mehoopany',\n",
              "  'Orange',\n",
              "  'West Clarksville',\n",
              "  'Whitney Point',\n",
              "  'Cotuit',\n",
              "  'Dorchester',\n",
              "  'East Dover',\n",
              "  'North Conway',\n",
              "  'North Montpelier',\n",
              "  'Oakland Mills',\n",
              "  'Vermontville',\n",
              "  'Village Of Nagog Woods',\n",
              "  'Vintondale',\n",
              "  'Wellsville',\n",
              "  'Bancroft',\n",
              "  'Clifton Forge',\n",
              "  'Frierson',\n",
              "  'Gilmore',\n",
              "  'Lone Oak',\n",
              "  'Manati',\n",
              "  'Metz',\n",
              "  'Pilgrim',\n",
              "  'Shaw A F B',\n",
              "  'Watkinsville',\n",
              "  'Beaverdam',\n",
              "  'Edgemont',\n",
              "  'Fordsville',\n",
              "  'Glen Allan',\n",
              "  'Gotebo',\n",
              "  'Hartley',\n",
              "  'Ladiesburg',\n",
              "  'Owings',\n",
              "  'Toa Baja',\n",
              "  'Wilmore',\n",
              "  'Archibald',\n",
              "  'Corning',\n",
              "  'Kiamichi Christian Mission',\n",
              "  'Ladonia',\n",
              "  'Maple Hill',\n",
              "  'Moneta',\n",
              "  'Ridgeville',\n",
              "  'Swansboro',\n",
              "  'Wainwright',\n",
              "  'Wallback',\n",
              "  'Aldie',\n",
              "  'Center Cross',\n",
              "  'Isaban',\n",
              "  'Kilbourne',\n",
              "  'Marlin',\n",
              "  'Micro',\n",
              "  'Oil Springs',\n",
              "  'Oviedo',\n",
              "  'Pathfork',\n",
              "  'Piney River',\n",
              "  'Avondale',\n",
              "  'Cheltenham',\n",
              "  'Dillsboro',\n",
              "  'Indiahoma',\n",
              "  'Jekyll Island',\n",
              "  'Mobile',\n",
              "  'Natalia',\n",
              "  'Newington',\n",
              "  'Warrenton',\n",
              "  'Lake Fork',\n",
              "  'Lusk',\n",
              "  'Mc Farland',\n",
              "  'Moscow',\n",
              "  'Parks',\n",
              "  'Rush Valley',\n",
              "  'Saint Marie',\n",
              "  'Sunnyside',\n",
              "  'Thousand Palms',\n",
              "  'Vina',\n",
              "  'Anton Chico',\n",
              "  'Conner',\n",
              "  'Fraser',\n",
              "  'Indian Hills',\n",
              "  'Iron Springs',\n",
              "  'Kittredge',\n",
              "  'Seaview',\n",
              "  'Tolovana Park',\n",
              "  'Wasilla',\n",
              "  'Clatskanie',\n",
              "  'La Mirada',\n",
              "  'Lemitar',\n",
              "  'Pioneertown',\n",
              "  'Provo',\n",
              "  'Ramona',\n",
              "  'Scott Bar',\n",
              "  'Syracuse',\n",
              "  'Twisp',\n",
              "  'Weiser',\n",
              "  'Alberton',\n",
              "  'Cheney',\n",
              "  'Granger',\n",
              "  'Nezperce',\n",
              "  'Nicolaus',\n",
              "  'Peshastin',\n",
              "  'Ramah',\n",
              "  'Sacramento',\n",
              "  'San Luis',\n",
              "  'Winthrop',\n",
              "  'Anthony',\n",
              "  'Boring',\n",
              "  'Laramie',\n",
              "  'Lodge Grass',\n",
              "  'Melba',\n",
              "  'Missoula',\n",
              "  'Needles',\n",
              "  'Sandia Park',\n",
              "  'Shelton',\n",
              "  'Tulare'],\n",
              " 'GMD Name': 'City'}"
            ]
          },
          "execution_count": 18,
          "metadata": {},
          "output_type": "execute_result"
        }
      ],
      "source": [
        "meta_data = load_meta_data()\n",
        "meta_data['dimensions']['City']"
      ]
    },
    {
      "cell_type": "code",
      "execution_count": 19,
      "metadata": {},
      "outputs": [
        {
          "data": {
            "text/plain": [
              "{'regexes': ['partner', 'partner name'],\n",
              " 'Unique Values': ['Amazon', 'Bestbuy', 'Costco', 'Target', 'Walmart'],\n",
              " 'GMD Name': 'Partner'}"
            ]
          },
          "execution_count": 19,
          "metadata": {},
          "output_type": "execute_result"
        }
      ],
      "source": [
        "meta_data['dimensions']['Partner Name']"
      ]
    },
    {
      "cell_type": "code",
      "execution_count": 20,
      "metadata": {},
      "outputs": [
        {
          "data": {
            "text/plain": [
              "dict_keys(['metric', 'dimensions', 'Location Cols'])"
            ]
          },
          "execution_count": 20,
          "metadata": {},
          "output_type": "execute_result"
        }
      ],
      "source": [
        "meta_data.keys()"
      ]
    },
    {
      "cell_type": "code",
      "execution_count": 21,
      "metadata": {},
      "outputs": [],
      "source": [
        "# user_input = 'all sales except bestbuy and amazon in west region'\n",
        "# user_input ='What are the bestbuy sales in west region covered vs uncovered'\n",
        "user_input = 'show me the product name'\n",
        "# user_input = 'which bestbuy store name have sales greater than 1000'\n",
        "# user_input = 'which bestbuy store name have sales equal to 95735'\n",
        "# user_input = 'give me names of tsm that are covered'\n",
        "# user_input = 'show tsm visits in west region'\n",
        "# user_input = 'Give me Top 3 sales less than or equal to 95735 for all partner'\n",
        "# user_input = 'what are (Best buy,Croton On Hudson,Westchester,New York,US) sales'\n",
        "# user_input = 'what are bestbuy price segment sales by partner'print(res)\n",
        "# user_input = 'What are the best buy sales that are covered by coverage?' print(res)"
      ]
    },
    {
      "cell_type": "code",
      "execution_count": 22,
      "metadata": {},
      "outputs": [
        {
          "data": {
            "text/plain": [
              "{}"
            ]
          },
          "execution_count": 22,
          "metadata": {},
          "output_type": "execute_result"
        }
      ],
      "source": [
        "metric_list = fetch_for_metric(user_input)\n",
        "metric_list"
      ]
    },
    {
      "cell_type": "code",
      "execution_count": 23,
      "metadata": {},
      "outputs": [
        {
          "data": {
            "text/plain": [
              "({}, [])"
            ]
          },
          "execution_count": 23,
          "metadata": {},
          "output_type": "execute_result"
        }
      ],
      "source": [
        "dimension_data, dimension_values = fetch_for_specific_dimension(user_input)\n",
        "dimension_data, dimension_values"
      ]
    },
    {
      "cell_type": "code",
      "execution_count": 24,
      "metadata": {},
      "outputs": [
        {
          "data": {
            "text/plain": [
              "{'Product Name': ['product name']}"
            ]
          },
          "execution_count": 24,
          "metadata": {},
          "output_type": "execute_result"
        }
      ],
      "source": [
        "dimension_list = fetch_for_dimension_name(user_input)\n",
        "dimension_list"
      ]
    },
    {
      "cell_type": "code",
      "execution_count": 25,
      "metadata": {},
      "outputs": [],
      "source": [
        "# ###Time extraction\n",
        "# time_res = time_extractor(user_input)\n",
        "\n",
        "# print(time_res)"
      ]
    },
    {
      "cell_type": "code",
      "execution_count": 26,
      "metadata": {},
      "outputs": [],
      "source": [
        "# start_date, end_date = extract_date_conditions(time_res)\n",
        "\n",
        "# print(start_date, end_date)"
      ]
    },
    {
      "cell_type": "code",
      "execution_count": 27,
      "metadata": {},
      "outputs": [],
      "source": [
        "# date_node = []\n",
        "# if start_date:\n",
        "#     date_node.append('Date')"
      ]
    },
    {
      "cell_type": "code",
      "execution_count": 28,
      "metadata": {},
      "outputs": [
        {
          "data": {
            "text/plain": [
              "['Product Name']"
            ]
          },
          "execution_count": 28,
          "metadata": {},
          "output_type": "execute_result"
        }
      ],
      "source": [
        "list_of_nodes = list(set(list(metric_list.keys()) + list(dimension_list.keys()) + list(dimension_data.keys())))\n",
        "list_of_nodes"
      ]
    },
    {
      "cell_type": "code",
      "execution_count": null,
      "metadata": {},
      "outputs": [],
      "source": []
    },
    {
      "cell_type": "code",
      "execution_count": 29,
      "metadata": {},
      "outputs": [
        {
          "data": {
            "text/plain": [
              "['Product_data_dummy.csv']"
            ]
          },
          "execution_count": 29,
          "metadata": {},
          "output_type": "execute_result"
        }
      ],
      "source": [
        "find_edge_attributes_with_indirect_connections(id_graph, list_of_nodes)"
      ]
    },
    {
      "cell_type": "code",
      "execution_count": 30,
      "metadata": {},
      "outputs": [
        {
          "data": {
            "text/plain": [
              "['Product_data_dummy.csv']"
            ]
          },
          "execution_count": 30,
          "metadata": {},
          "output_type": "execute_result"
        }
      ],
      "source": [
        "list_of_paths = find_edge_attributes_with_indirect_connections(graph, list_of_nodes)\n",
        "list_of_paths"
      ]
    },
    {
      "cell_type": "code",
      "execution_count": 31,
      "metadata": {},
      "outputs": [],
      "source": [
        "exclusions, inclusions = separate_exception_entities(user_input, dimension_values)\n",
        "col_w_regex = {key: metric_list.get(key, []) + dimension_list.get(key, []) for key in metric_list.keys() | dimension_list.keys()}\n",
        "\n",
        "aggregations = extract_aggregations(user_input, col_w_regex)\n",
        "comparisons = extract_comparisons(user_input, col_w_regex)\n"
      ]
    },
    {
      "cell_type": "code",
      "execution_count": 32,
      "metadata": {},
      "outputs": [],
      "source": [
        "list_to_groupby = []\n",
        "\n",
        "#Value filter according to dimension values\n",
        "\n",
        "if dimension_list:\n",
        "    list_to_groupby+= dimension_list\n",
        "\n",
        "#Comparison filter\n",
        "after_comp =[]\n",
        "before_comp = []\n",
        "\n",
        "if aggregations:\n",
        "    #Assumption: if an entity say sales is asked in query then it is only asked like  sales >/</= 5000 or avg/agg sales </>/= 5000\n",
        "    # not like avg sales where sales are greater than 5000 \n",
        "    for comp in comparisons:\n",
        "        if comp[0] in aggregations:\n",
        "            after_comp.append(comp)\n",
        "        else:\n",
        "            before_comp.append(comp)\n",
        "    \n",
        "else:\n",
        "    before_comp = comparisons"
      ]
    },
    {
      "cell_type": "code",
      "execution_count": 348,
      "metadata": {},
      "outputs": [],
      "source": [
        "def outer_join_all_columns(dfs):\n",
        "    \n",
        "    # Start with the first DataFrame\n",
        "    result = dfs[0]\n",
        "    result = result.groupby([col for col in result.columns if col not in result.select_dtypes(include=[int, float]) \\\n",
        "                    .columns.difference(result.select_dtypes(include=['datetime', 'object', 'string']).columns)]).sum().reset_index()\n",
        "    \n",
        "    # Iterate over the remaining DataFrames\n",
        "    for df in dfs[1:]:\n",
        "        # Find common columns between the current result and the next DataFrame\n",
        "        common_columns = list(set(result.columns).intersection(set(df.columns)))\n",
        "        print(common_columns)        \n",
        "        numeric_columns = df.select_dtypes(include=[int, float]) \\\n",
        "                    .columns.difference(df.select_dtypes(include=['datetime', 'object', 'string']).columns)\n",
        "    \n",
        "        # If there are common columns, merge on those\n",
        "        if common_columns:\n",
        "            #columns that are not numeric need to be grouped\n",
        "            grp_by_cols = [ col for col in df.columns if col not in numeric_columns]\n",
        "            \n",
        "            # print(grp_by_cols)\n",
        "            df = df.groupby(grp_by_cols).sum().reset_index()\n",
        "            # print(df)\n",
        "            # print(result)\n",
        "            \n",
        "            result = pd.merge(result, df, on=common_columns, how='outer')\n",
        "        else:\n",
        "            # If no common columns, do a cartesian product to keep all data\n",
        "            result = result.merge(df, left_index=True, right_index=True, how='outer')\n",
        "    warning = None\n",
        "    if len(result)>max([len(df) for df in dfs]):\n",
        "        warning = 'Warning: the data may not have been joined correctly as the number of rows in the result is more than the number of rows in the original dataframes which may lead to incorrect calculations.'\n",
        "\n",
        "    return result, warning\n"
      ]
    },
    {
      "cell_type": "code",
      "execution_count": 349,
      "metadata": {},
      "outputs": [],
      "source": [
        "# import numpy as np\n",
        "# df1 = pd.DataFrame({'Store ID': [np.nan,'b', 'c', 'd'], 'region': [np.nan, 'east', 'west', 'west'], 'sales': [1,2,3,4], 'Coverage': ['c', 'u', 'c', 'u']})\n",
        "# df2 = pd.DataFrame({'Store ID': ['a','b', 'c', 'd'], 'region': ['north', 'north', 'west', 'west'], 'wos': [1,2,3,4], 'Coverage': ['c', 'u', 'c', 'u'] })\n",
        "# # df3 = pd.DataFrame({'Store ID': ['a','b', 'partner': ['east', 'east',], 'wos': [5,6,7,8], 'Coverage': ['c', 'u', 'c', 'c'] })\n",
        "# outer_join_all_columns([df1, df2])\n"
      ]
    },
    {
      "cell_type": "code",
      "execution_count": 350,
      "metadata": {},
      "outputs": [
        {
          "data": {
            "text/plain": [
              "['Sales', 'Region']"
            ]
          },
          "execution_count": 350,
          "metadata": {},
          "output_type": "execute_result"
        }
      ],
      "source": [
        "list_of_nodes"
      ]
    },
    {
      "cell_type": "code",
      "execution_count": 351,
      "metadata": {},
      "outputs": [
        {
          "data": {
            "text/html": [
              "<div>\n",
              "<style scoped>\n",
              "    .dataframe tbody tr th:only-of-type {\n",
              "        vertical-align: middle;\n",
              "    }\n",
              "\n",
              "    .dataframe tbody tr th {\n",
              "        vertical-align: top;\n",
              "    }\n",
              "\n",
              "    .dataframe thead th {\n",
              "        text-align: right;\n",
              "    }\n",
              "</style>\n",
              "<table border=\"1\" class=\"dataframe\">\n",
              "  <thead>\n",
              "    <tr style=\"text-align: right;\">\n",
              "      <th></th>\n",
              "      <th>City</th>\n",
              "      <th>Territory</th>\n",
              "      <th>State</th>\n",
              "      <th>Region</th>\n",
              "      <th>Partner Name</th>\n",
              "      <th>Store Name</th>\n",
              "      <th>Date</th>\n",
              "      <th>Sales</th>\n",
              "      <th>WOS</th>\n",
              "    </tr>\n",
              "  </thead>\n",
              "  <tbody>\n",
              "    <tr>\n",
              "      <th>0</th>\n",
              "      <td>Alberton</td>\n",
              "      <td>Mineral</td>\n",
              "      <td>Montana</td>\n",
              "      <td>West</td>\n",
              "      <td>Target</td>\n",
              "      <td>Target,Alberton,Mineral,Montana,US</td>\n",
              "      <td>2024-01-01</td>\n",
              "      <td>209</td>\n",
              "      <td>706</td>\n",
              "    </tr>\n",
              "    <tr>\n",
              "      <th>1</th>\n",
              "      <td>Alberton</td>\n",
              "      <td>Mineral</td>\n",
              "      <td>Montana</td>\n",
              "      <td>West</td>\n",
              "      <td>Target</td>\n",
              "      <td>Target,Alberton,Mineral,Montana,US</td>\n",
              "      <td>2024-02-01</td>\n",
              "      <td>214</td>\n",
              "      <td>661</td>\n",
              "    </tr>\n",
              "    <tr>\n",
              "      <th>2</th>\n",
              "      <td>Alberton</td>\n",
              "      <td>Mineral</td>\n",
              "      <td>Montana</td>\n",
              "      <td>West</td>\n",
              "      <td>Target</td>\n",
              "      <td>Target,Alberton,Mineral,Montana,US</td>\n",
              "      <td>2024-03-01</td>\n",
              "      <td>223</td>\n",
              "      <td>548</td>\n",
              "    </tr>\n",
              "    <tr>\n",
              "      <th>3</th>\n",
              "      <td>Alberton</td>\n",
              "      <td>Mineral</td>\n",
              "      <td>Montana</td>\n",
              "      <td>West</td>\n",
              "      <td>Target</td>\n",
              "      <td>Target,Alberton,Mineral,Montana,US</td>\n",
              "      <td>2024-04-01</td>\n",
              "      <td>277</td>\n",
              "      <td>518</td>\n",
              "    </tr>\n",
              "    <tr>\n",
              "      <th>4</th>\n",
              "      <td>Alberton</td>\n",
              "      <td>Mineral</td>\n",
              "      <td>Montana</td>\n",
              "      <td>West</td>\n",
              "      <td>Target</td>\n",
              "      <td>Target,Alberton,Mineral,Montana,US</td>\n",
              "      <td>2024-05-01</td>\n",
              "      <td>722</td>\n",
              "      <td>291</td>\n",
              "    </tr>\n",
              "    <tr>\n",
              "      <th>...</th>\n",
              "      <td>...</td>\n",
              "      <td>...</td>\n",
              "      <td>...</td>\n",
              "      <td>...</td>\n",
              "      <td>...</td>\n",
              "      <td>...</td>\n",
              "      <td>...</td>\n",
              "      <td>...</td>\n",
              "      <td>...</td>\n",
              "    </tr>\n",
              "    <tr>\n",
              "      <th>1195</th>\n",
              "      <td>Winthrop</td>\n",
              "      <td>Suffolk</td>\n",
              "      <td>Massachusetts</td>\n",
              "      <td>West</td>\n",
              "      <td>Target</td>\n",
              "      <td>Target,Winthrop,Suffolk,Massachusetts,US</td>\n",
              "      <td>2024-02-01</td>\n",
              "      <td>374</td>\n",
              "      <td>772</td>\n",
              "    </tr>\n",
              "    <tr>\n",
              "      <th>1196</th>\n",
              "      <td>Winthrop</td>\n",
              "      <td>Suffolk</td>\n",
              "      <td>Massachusetts</td>\n",
              "      <td>West</td>\n",
              "      <td>Target</td>\n",
              "      <td>Target,Winthrop,Suffolk,Massachusetts,US</td>\n",
              "      <td>2024-03-01</td>\n",
              "      <td>495</td>\n",
              "      <td>731</td>\n",
              "    </tr>\n",
              "    <tr>\n",
              "      <th>1197</th>\n",
              "      <td>Winthrop</td>\n",
              "      <td>Suffolk</td>\n",
              "      <td>Massachusetts</td>\n",
              "      <td>West</td>\n",
              "      <td>Target</td>\n",
              "      <td>Target,Winthrop,Suffolk,Massachusetts,US</td>\n",
              "      <td>2024-04-01</td>\n",
              "      <td>516</td>\n",
              "      <td>623</td>\n",
              "    </tr>\n",
              "    <tr>\n",
              "      <th>1198</th>\n",
              "      <td>Winthrop</td>\n",
              "      <td>Suffolk</td>\n",
              "      <td>Massachusetts</td>\n",
              "      <td>West</td>\n",
              "      <td>Target</td>\n",
              "      <td>Target,Winthrop,Suffolk,Massachusetts,US</td>\n",
              "      <td>2024-05-01</td>\n",
              "      <td>539</td>\n",
              "      <td>559</td>\n",
              "    </tr>\n",
              "    <tr>\n",
              "      <th>1199</th>\n",
              "      <td>Winthrop</td>\n",
              "      <td>Suffolk</td>\n",
              "      <td>Massachusetts</td>\n",
              "      <td>West</td>\n",
              "      <td>Target</td>\n",
              "      <td>Target,Winthrop,Suffolk,Massachusetts,US</td>\n",
              "      <td>2024-06-01</td>\n",
              "      <td>620</td>\n",
              "      <td>414</td>\n",
              "    </tr>\n",
              "  </tbody>\n",
              "</table>\n",
              "<p>1200 rows × 9 columns</p>\n",
              "</div>"
            ],
            "text/plain": [
              "          City Territory          State Region Partner Name  \\\n",
              "0     Alberton   Mineral        Montana   West       Target   \n",
              "1     Alberton   Mineral        Montana   West       Target   \n",
              "2     Alberton   Mineral        Montana   West       Target   \n",
              "3     Alberton   Mineral        Montana   West       Target   \n",
              "4     Alberton   Mineral        Montana   West       Target   \n",
              "...        ...       ...            ...    ...          ...   \n",
              "1195  Winthrop   Suffolk  Massachusetts   West       Target   \n",
              "1196  Winthrop   Suffolk  Massachusetts   West       Target   \n",
              "1197  Winthrop   Suffolk  Massachusetts   West       Target   \n",
              "1198  Winthrop   Suffolk  Massachusetts   West       Target   \n",
              "1199  Winthrop   Suffolk  Massachusetts   West       Target   \n",
              "\n",
              "                                    Store Name        Date  Sales  WOS  \n",
              "0           Target,Alberton,Mineral,Montana,US  2024-01-01    209  706  \n",
              "1           Target,Alberton,Mineral,Montana,US  2024-02-01    214  661  \n",
              "2           Target,Alberton,Mineral,Montana,US  2024-03-01    223  548  \n",
              "3           Target,Alberton,Mineral,Montana,US  2024-04-01    277  518  \n",
              "4           Target,Alberton,Mineral,Montana,US  2024-05-01    722  291  \n",
              "...                                        ...         ...    ...  ...  \n",
              "1195  Target,Winthrop,Suffolk,Massachusetts,US  2024-02-01    374  772  \n",
              "1196  Target,Winthrop,Suffolk,Massachusetts,US  2024-03-01    495  731  \n",
              "1197  Target,Winthrop,Suffolk,Massachusetts,US  2024-04-01    516  623  \n",
              "1198  Target,Winthrop,Suffolk,Massachusetts,US  2024-05-01    539  559  \n",
              "1199  Target,Winthrop,Suffolk,Massachusetts,US  2024-06-01    620  414  \n",
              "\n",
              "[1200 rows x 9 columns]"
            ]
          },
          "execution_count": 351,
          "metadata": {},
          "output_type": "execute_result"
        }
      ],
      "source": [
        "from src.Utils.Config import DATA_FOLDER\n",
        "\n",
        "dfs = [pd.read_csv(os.path.join('src/', DATA_FOLDER, file_name)) for file_name in list_of_paths]\n",
        "\n",
        "#Outerjoin on common columns\n",
        "df, _ = outer_join_all_columns(dfs)\n",
        "df\n",
        "\n",
        "# # Start with the first DataFrame\n",
        "# merged_df = dfs[0]\n",
        "# print(merged_df)\n",
        "# # Outer join with the rest of the DataFrames\n",
        "# for df in dfs[1:]:\n",
        "#     merged_df = pd.merge(merged_df, df, how='outer')\n",
        "#     print(merged_df)\n",
        "\n",
        "# merged_df"
      ]
    },
    {
      "cell_type": "code",
      "execution_count": 33,
      "metadata": {},
      "outputs": [
        {
          "data": {
            "text/html": [
              "<div>\n",
              "<style scoped>\n",
              "    .dataframe tbody tr th:only-of-type {\n",
              "        vertical-align: middle;\n",
              "    }\n",
              "\n",
              "    .dataframe tbody tr th {\n",
              "        vertical-align: top;\n",
              "    }\n",
              "\n",
              "    .dataframe thead th {\n",
              "        text-align: right;\n",
              "    }\n",
              "</style>\n",
              "<table border=\"1\" class=\"dataframe\">\n",
              "  <thead>\n",
              "    <tr style=\"text-align: right;\">\n",
              "      <th></th>\n",
              "      <th>Price Segment</th>\n",
              "      <th>Brand</th>\n",
              "      <th>Product Name</th>\n",
              "      <th>Launch Date</th>\n",
              "      <th>Prod Id</th>\n",
              "    </tr>\n",
              "  </thead>\n",
              "  <tbody>\n",
              "    <tr>\n",
              "      <th>0</th>\n",
              "      <td>Budget Friendly Segment</td>\n",
              "      <td>Asus</td>\n",
              "      <td>Asus Zenbook</td>\n",
              "      <td>2024-06-18</td>\n",
              "      <td>1</td>\n",
              "    </tr>\n",
              "    <tr>\n",
              "      <th>1</th>\n",
              "      <td>Budget Friendly Segment</td>\n",
              "      <td>Asus</td>\n",
              "      <td>Asus TUF Gaming</td>\n",
              "      <td>2022-06-20</td>\n",
              "      <td>2</td>\n",
              "    </tr>\n",
              "    <tr>\n",
              "      <th>2</th>\n",
              "      <td>Premium_segment</td>\n",
              "      <td>HP</td>\n",
              "      <td>HP Envy x360</td>\n",
              "      <td>2023-01-15</td>\n",
              "      <td>3</td>\n",
              "    </tr>\n",
              "    <tr>\n",
              "      <th>3</th>\n",
              "      <td>Premium_segment</td>\n",
              "      <td>Samsung</td>\n",
              "      <td>Samsung Galaxybook</td>\n",
              "      <td>2021-03-28</td>\n",
              "      <td>4</td>\n",
              "    </tr>\n",
              "    <tr>\n",
              "      <th>4</th>\n",
              "      <td>Premium_segment</td>\n",
              "      <td>Microsoft</td>\n",
              "      <td>Microsoft Surface Pro</td>\n",
              "      <td>2024-06-01</td>\n",
              "      <td>5</td>\n",
              "    </tr>\n",
              "    <tr>\n",
              "      <th>5</th>\n",
              "      <td>Premium_segment</td>\n",
              "      <td>Apple</td>\n",
              "      <td>Apple Macbook Pro</td>\n",
              "      <td>2024-05-12</td>\n",
              "      <td>6</td>\n",
              "    </tr>\n",
              "    <tr>\n",
              "      <th>6</th>\n",
              "      <td>Budget Friendly Segment</td>\n",
              "      <td>Lenovo</td>\n",
              "      <td>Lenovo Legion</td>\n",
              "      <td>2021-06-12</td>\n",
              "      <td>7</td>\n",
              "    </tr>\n",
              "    <tr>\n",
              "      <th>7</th>\n",
              "      <td>Budget Friendly Segment</td>\n",
              "      <td>Lenovo</td>\n",
              "      <td>Lenovo Yoga</td>\n",
              "      <td>2023-04-29</td>\n",
              "      <td>8</td>\n",
              "    </tr>\n",
              "    <tr>\n",
              "      <th>8</th>\n",
              "      <td>Budget Friendly Segment</td>\n",
              "      <td>Acer</td>\n",
              "      <td>Acer Aspire</td>\n",
              "      <td>2024-02-04</td>\n",
              "      <td>9</td>\n",
              "    </tr>\n",
              "  </tbody>\n",
              "</table>\n",
              "</div>"
            ],
            "text/plain": [
              "             Price Segment      Brand           Product Name Launch Date  \\\n",
              "0  Budget Friendly Segment       Asus           Asus Zenbook  2024-06-18   \n",
              "1  Budget Friendly Segment       Asus        Asus TUF Gaming  2022-06-20   \n",
              "2          Premium_segment         HP           HP Envy x360  2023-01-15   \n",
              "3          Premium_segment    Samsung     Samsung Galaxybook  2021-03-28   \n",
              "4          Premium_segment  Microsoft  Microsoft Surface Pro  2024-06-01   \n",
              "5          Premium_segment      Apple      Apple Macbook Pro  2024-05-12   \n",
              "6  Budget Friendly Segment     Lenovo          Lenovo Legion  2021-06-12   \n",
              "7  Budget Friendly Segment     Lenovo            Lenovo Yoga  2023-04-29   \n",
              "8  Budget Friendly Segment       Acer            Acer Aspire  2024-02-04   \n",
              "\n",
              "   Prod Id  \n",
              "0        1  \n",
              "1        2  \n",
              "2        3  \n",
              "3        4  \n",
              "4        5  \n",
              "5        6  \n",
              "6        7  \n",
              "7        8  \n",
              "8        9  "
            ]
          },
          "execution_count": 33,
          "metadata": {},
          "output_type": "execute_result"
        }
      ],
      "source": [
        "i_df, df, after_comp, aggregations, list_to_groupby = fetch_required_data_and_apply_filters(list_of_paths, user_input, metric_list, dimension_values, dimension_list)\n",
        "df"
      ]
    },
    {
      "cell_type": "code",
      "execution_count": 34,
      "metadata": {},
      "outputs": [
        {
          "data": {
            "text/html": [
              "<div>\n",
              "<style scoped>\n",
              "    .dataframe tbody tr th:only-of-type {\n",
              "        vertical-align: middle;\n",
              "    }\n",
              "\n",
              "    .dataframe tbody tr th {\n",
              "        vertical-align: top;\n",
              "    }\n",
              "\n",
              "    .dataframe thead th {\n",
              "        text-align: right;\n",
              "    }\n",
              "</style>\n",
              "<table border=\"1\" class=\"dataframe\">\n",
              "  <thead>\n",
              "    <tr style=\"text-align: right;\">\n",
              "      <th></th>\n",
              "      <th>Price Segment</th>\n",
              "      <th>Brand</th>\n",
              "      <th>Product Name</th>\n",
              "      <th>Launch Date</th>\n",
              "      <th>Prod Id</th>\n",
              "    </tr>\n",
              "  </thead>\n",
              "  <tbody>\n",
              "    <tr>\n",
              "      <th>0</th>\n",
              "      <td>Budget Friendly Segment</td>\n",
              "      <td>Asus</td>\n",
              "      <td>Asus Zenbook</td>\n",
              "      <td>2024-06-18</td>\n",
              "      <td>1</td>\n",
              "    </tr>\n",
              "    <tr>\n",
              "      <th>1</th>\n",
              "      <td>Budget Friendly Segment</td>\n",
              "      <td>Asus</td>\n",
              "      <td>Asus TUF Gaming</td>\n",
              "      <td>2022-06-20</td>\n",
              "      <td>2</td>\n",
              "    </tr>\n",
              "    <tr>\n",
              "      <th>2</th>\n",
              "      <td>Premium_segment</td>\n",
              "      <td>HP</td>\n",
              "      <td>HP Envy x360</td>\n",
              "      <td>2023-01-15</td>\n",
              "      <td>3</td>\n",
              "    </tr>\n",
              "    <tr>\n",
              "      <th>3</th>\n",
              "      <td>Premium_segment</td>\n",
              "      <td>Samsung</td>\n",
              "      <td>Samsung Galaxybook</td>\n",
              "      <td>2021-03-28</td>\n",
              "      <td>4</td>\n",
              "    </tr>\n",
              "    <tr>\n",
              "      <th>4</th>\n",
              "      <td>Premium_segment</td>\n",
              "      <td>Microsoft</td>\n",
              "      <td>Microsoft Surface Pro</td>\n",
              "      <td>2024-06-01</td>\n",
              "      <td>5</td>\n",
              "    </tr>\n",
              "    <tr>\n",
              "      <th>5</th>\n",
              "      <td>Premium_segment</td>\n",
              "      <td>Apple</td>\n",
              "      <td>Apple Macbook Pro</td>\n",
              "      <td>2024-05-12</td>\n",
              "      <td>6</td>\n",
              "    </tr>\n",
              "    <tr>\n",
              "      <th>6</th>\n",
              "      <td>Budget Friendly Segment</td>\n",
              "      <td>Lenovo</td>\n",
              "      <td>Lenovo Legion</td>\n",
              "      <td>2021-06-12</td>\n",
              "      <td>7</td>\n",
              "    </tr>\n",
              "    <tr>\n",
              "      <th>7</th>\n",
              "      <td>Budget Friendly Segment</td>\n",
              "      <td>Lenovo</td>\n",
              "      <td>Lenovo Yoga</td>\n",
              "      <td>2023-04-29</td>\n",
              "      <td>8</td>\n",
              "    </tr>\n",
              "    <tr>\n",
              "      <th>8</th>\n",
              "      <td>Budget Friendly Segment</td>\n",
              "      <td>Acer</td>\n",
              "      <td>Acer Aspire</td>\n",
              "      <td>2024-02-04</td>\n",
              "      <td>9</td>\n",
              "    </tr>\n",
              "  </tbody>\n",
              "</table>\n",
              "</div>"
            ],
            "text/plain": [
              "             Price Segment      Brand           Product Name Launch Date  \\\n",
              "0  Budget Friendly Segment       Asus           Asus Zenbook  2024-06-18   \n",
              "1  Budget Friendly Segment       Asus        Asus TUF Gaming  2022-06-20   \n",
              "2          Premium_segment         HP           HP Envy x360  2023-01-15   \n",
              "3          Premium_segment    Samsung     Samsung Galaxybook  2021-03-28   \n",
              "4          Premium_segment  Microsoft  Microsoft Surface Pro  2024-06-01   \n",
              "5          Premium_segment      Apple      Apple Macbook Pro  2024-05-12   \n",
              "6  Budget Friendly Segment     Lenovo          Lenovo Legion  2021-06-12   \n",
              "7  Budget Friendly Segment     Lenovo            Lenovo Yoga  2023-04-29   \n",
              "8  Budget Friendly Segment       Acer            Acer Aspire  2024-02-04   \n",
              "\n",
              "   Prod Id  \n",
              "0        1  \n",
              "1        2  \n",
              "2        3  \n",
              "3        4  \n",
              "4        5  \n",
              "5        6  \n",
              "6        7  \n",
              "7        8  \n",
              "8        9  "
            ]
          },
          "execution_count": 34,
          "metadata": {},
          "output_type": "execute_result"
        }
      ],
      "source": [
        "df"
      ]
    },
    {
      "cell_type": "code",
      "execution_count": 35,
      "metadata": {},
      "outputs": [
        {
          "data": {
            "text/html": [
              "<div>\n",
              "<style scoped>\n",
              "    .dataframe tbody tr th:only-of-type {\n",
              "        vertical-align: middle;\n",
              "    }\n",
              "\n",
              "    .dataframe tbody tr th {\n",
              "        vertical-align: top;\n",
              "    }\n",
              "\n",
              "    .dataframe thead th {\n",
              "        text-align: right;\n",
              "    }\n",
              "</style>\n",
              "<table border=\"1\" class=\"dataframe\">\n",
              "  <thead>\n",
              "    <tr style=\"text-align: right;\">\n",
              "      <th></th>\n",
              "      <th>Price Segment</th>\n",
              "      <th>Brand</th>\n",
              "      <th>Product Name</th>\n",
              "      <th>Launch Date</th>\n",
              "      <th>Prod Id</th>\n",
              "    </tr>\n",
              "  </thead>\n",
              "  <tbody>\n",
              "    <tr>\n",
              "      <th>0</th>\n",
              "      <td>Budget Friendly Segment</td>\n",
              "      <td>Asus</td>\n",
              "      <td>Asus Zenbook</td>\n",
              "      <td>2024-06-18</td>\n",
              "      <td>1</td>\n",
              "    </tr>\n",
              "    <tr>\n",
              "      <th>1</th>\n",
              "      <td>Budget Friendly Segment</td>\n",
              "      <td>Asus</td>\n",
              "      <td>Asus TUF Gaming</td>\n",
              "      <td>2022-06-20</td>\n",
              "      <td>2</td>\n",
              "    </tr>\n",
              "    <tr>\n",
              "      <th>2</th>\n",
              "      <td>Premium_segment</td>\n",
              "      <td>HP</td>\n",
              "      <td>HP Envy x360</td>\n",
              "      <td>2023-01-15</td>\n",
              "      <td>3</td>\n",
              "    </tr>\n",
              "    <tr>\n",
              "      <th>3</th>\n",
              "      <td>Premium_segment</td>\n",
              "      <td>Samsung</td>\n",
              "      <td>Samsung Galaxybook</td>\n",
              "      <td>2021-03-28</td>\n",
              "      <td>4</td>\n",
              "    </tr>\n",
              "    <tr>\n",
              "      <th>4</th>\n",
              "      <td>Premium_segment</td>\n",
              "      <td>Microsoft</td>\n",
              "      <td>Microsoft Surface Pro</td>\n",
              "      <td>2024-06-01</td>\n",
              "      <td>5</td>\n",
              "    </tr>\n",
              "    <tr>\n",
              "      <th>5</th>\n",
              "      <td>Premium_segment</td>\n",
              "      <td>Apple</td>\n",
              "      <td>Apple Macbook Pro</td>\n",
              "      <td>2024-05-12</td>\n",
              "      <td>6</td>\n",
              "    </tr>\n",
              "    <tr>\n",
              "      <th>6</th>\n",
              "      <td>Budget Friendly Segment</td>\n",
              "      <td>Lenovo</td>\n",
              "      <td>Lenovo Legion</td>\n",
              "      <td>2021-06-12</td>\n",
              "      <td>7</td>\n",
              "    </tr>\n",
              "    <tr>\n",
              "      <th>7</th>\n",
              "      <td>Budget Friendly Segment</td>\n",
              "      <td>Lenovo</td>\n",
              "      <td>Lenovo Yoga</td>\n",
              "      <td>2023-04-29</td>\n",
              "      <td>8</td>\n",
              "    </tr>\n",
              "    <tr>\n",
              "      <th>8</th>\n",
              "      <td>Budget Friendly Segment</td>\n",
              "      <td>Acer</td>\n",
              "      <td>Acer Aspire</td>\n",
              "      <td>2024-02-04</td>\n",
              "      <td>9</td>\n",
              "    </tr>\n",
              "  </tbody>\n",
              "</table>\n",
              "</div>"
            ],
            "text/plain": [
              "             Price Segment      Brand           Product Name Launch Date  \\\n",
              "0  Budget Friendly Segment       Asus           Asus Zenbook  2024-06-18   \n",
              "1  Budget Friendly Segment       Asus        Asus TUF Gaming  2022-06-20   \n",
              "2          Premium_segment         HP           HP Envy x360  2023-01-15   \n",
              "3          Premium_segment    Samsung     Samsung Galaxybook  2021-03-28   \n",
              "4          Premium_segment  Microsoft  Microsoft Surface Pro  2024-06-01   \n",
              "5          Premium_segment      Apple      Apple Macbook Pro  2024-05-12   \n",
              "6  Budget Friendly Segment     Lenovo          Lenovo Legion  2021-06-12   \n",
              "7  Budget Friendly Segment     Lenovo            Lenovo Yoga  2023-04-29   \n",
              "8  Budget Friendly Segment       Acer            Acer Aspire  2024-02-04   \n",
              "\n",
              "   Prod Id  \n",
              "0        1  \n",
              "1        2  \n",
              "2        3  \n",
              "3        4  \n",
              "4        5  \n",
              "5        6  \n",
              "6        7  \n",
              "7        8  \n",
              "8        9  "
            ]
          },
          "execution_count": 35,
          "metadata": {},
          "output_type": "execute_result"
        }
      ],
      "source": [
        "if dimension_data:\n",
        "        exclusions, inclusions = separate_exception_entities(user_input, dimension_values)\n",
        "        df = filter_values_handler(dimension_data, inclusions, exclusions, df)\n",
        "        df = df.reset_index(drop=True)\n",
        "        list_to_groupby += list(dimension_data.keys())\n",
        "df"
      ]
    },
    {
      "cell_type": "code",
      "execution_count": 36,
      "metadata": {},
      "outputs": [
        {
          "data": {
            "text/plain": [
              "[]"
            ]
          },
          "execution_count": 36,
          "metadata": {},
          "output_type": "execute_result"
        }
      ],
      "source": [
        "after_comp"
      ]
    },
    {
      "cell_type": "code",
      "execution_count": 37,
      "metadata": {},
      "outputs": [
        {
          "data": {
            "text/plain": [
              "{}"
            ]
          },
          "execution_count": 37,
          "metadata": {},
          "output_type": "execute_result"
        }
      ],
      "source": [
        "aggregations"
      ]
    },
    {
      "cell_type": "code",
      "execution_count": 38,
      "metadata": {},
      "outputs": [],
      "source": [
        "resdf = df.copy()"
      ]
    },
    {
      "cell_type": "code",
      "execution_count": 39,
      "metadata": {},
      "outputs": [
        {
          "data": {
            "text/html": [
              "<div>\n",
              "<style scoped>\n",
              "    .dataframe tbody tr th:only-of-type {\n",
              "        vertical-align: middle;\n",
              "    }\n",
              "\n",
              "    .dataframe tbody tr th {\n",
              "        vertical-align: top;\n",
              "    }\n",
              "\n",
              "    .dataframe thead th {\n",
              "        text-align: right;\n",
              "    }\n",
              "</style>\n",
              "<table border=\"1\" class=\"dataframe\">\n",
              "  <thead>\n",
              "    <tr style=\"text-align: right;\">\n",
              "      <th></th>\n",
              "      <th>Product Name</th>\n",
              "    </tr>\n",
              "  </thead>\n",
              "  <tbody>\n",
              "    <tr>\n",
              "      <th>0</th>\n",
              "      <td>Asus Zenbook</td>\n",
              "    </tr>\n",
              "    <tr>\n",
              "      <th>1</th>\n",
              "      <td>Asus TUF Gaming</td>\n",
              "    </tr>\n",
              "    <tr>\n",
              "      <th>2</th>\n",
              "      <td>HP Envy x360</td>\n",
              "    </tr>\n",
              "    <tr>\n",
              "      <th>3</th>\n",
              "      <td>Samsung Galaxybook</td>\n",
              "    </tr>\n",
              "    <tr>\n",
              "      <th>4</th>\n",
              "      <td>Microsoft Surface Pro</td>\n",
              "    </tr>\n",
              "    <tr>\n",
              "      <th>5</th>\n",
              "      <td>Apple Macbook Pro</td>\n",
              "    </tr>\n",
              "    <tr>\n",
              "      <th>6</th>\n",
              "      <td>Lenovo Legion</td>\n",
              "    </tr>\n",
              "    <tr>\n",
              "      <th>7</th>\n",
              "      <td>Lenovo Yoga</td>\n",
              "    </tr>\n",
              "    <tr>\n",
              "      <th>8</th>\n",
              "      <td>Acer Aspire</td>\n",
              "    </tr>\n",
              "  </tbody>\n",
              "</table>\n",
              "</div>"
            ],
            "text/plain": [
              "            Product Name\n",
              "0           Asus Zenbook\n",
              "1        Asus TUF Gaming\n",
              "2           HP Envy x360\n",
              "3     Samsung Galaxybook\n",
              "4  Microsoft Surface Pro\n",
              "5      Apple Macbook Pro\n",
              "6          Lenovo Legion\n",
              "7            Lenovo Yoga\n",
              "8            Acer Aspire"
            ]
          },
          "execution_count": 39,
          "metadata": {},
          "output_type": "execute_result"
        }
      ],
      "source": [
        "df = df[list_of_nodes]\n",
        "df"
      ]
    },
    {
      "cell_type": "markdown",
      "metadata": {},
      "source": [
        "# If trig check"
      ]
    },
    {
      "cell_type": "code",
      "execution_count": 359,
      "metadata": {},
      "outputs": [],
      "source": [
        "def find_partial_edge_attributes(graph, nodes):\n",
        "    edge_attributes = []\n",
        "    visited_nodes = set()\n",
        "\n",
        "    for master_node in nodes:\n",
        "        if master_node in visited_nodes:\n",
        "            continue\n",
        "\n",
        "        # Attempt to find all nodes connected to the master_node\n",
        "        connected_subgraph = nx.node_connected_component(graph, master_node)\n",
        "        connected_nodes = set(connected_subgraph).intersection(nodes)\n",
        "\n",
        "        # If connected nodes are found, gather their edge attributes\n",
        "        if connected_nodes:\n",
        "            visited_nodes.update(connected_nodes)\n",
        "\n",
        "            for target in connected_nodes:\n",
        "                if graph.has_edge(master_node, target):\n",
        "                    attrs = graph.get_edge_data(master_node, target)\n",
        "                    edge_attributes.append(attrs['file_names'])\n",
        "                else:\n",
        "                    try:\n",
        "                        path = nx.shortest_path(graph, source=master_node, target=target)\n",
        "                        if all(node in graph.nodes for node in path):\n",
        "                            for i in range(len(path) - 1):\n",
        "                                edge = graph.get_edge_data(path[i], path[i + 1])\n",
        "                                edge_attributes.append(edge['file_names'])\n",
        "                    except nx.NetworkXNoPath:\n",
        "                        continue\n",
        "\n",
        "    return edge_attributes\n"
      ]
    },
    {
      "cell_type": "code",
      "execution_count": 360,
      "metadata": {},
      "outputs": [
        {
          "data": {
            "text/html": [
              "<div>\n",
              "<style scoped>\n",
              "    .dataframe tbody tr th:only-of-type {\n",
              "        vertical-align: middle;\n",
              "    }\n",
              "\n",
              "    .dataframe tbody tr th {\n",
              "        vertical-align: top;\n",
              "    }\n",
              "\n",
              "    .dataframe thead th {\n",
              "        text-align: right;\n",
              "    }\n",
              "</style>\n",
              "<table border=\"1\" class=\"dataframe\">\n",
              "  <thead>\n",
              "    <tr style=\"text-align: right;\">\n",
              "      <th></th>\n",
              "      <th>Sales</th>\n",
              "      <th>Region</th>\n",
              "    </tr>\n",
              "  </thead>\n",
              "  <tbody>\n",
              "    <tr>\n",
              "      <th>0</th>\n",
              "      <td>359</td>\n",
              "      <td>West</td>\n",
              "    </tr>\n",
              "    <tr>\n",
              "      <th>1</th>\n",
              "      <td>368</td>\n",
              "      <td>West</td>\n",
              "    </tr>\n",
              "    <tr>\n",
              "      <th>2</th>\n",
              "      <td>614</td>\n",
              "      <td>West</td>\n",
              "    </tr>\n",
              "    <tr>\n",
              "      <th>3</th>\n",
              "      <td>641</td>\n",
              "      <td>West</td>\n",
              "    </tr>\n",
              "    <tr>\n",
              "      <th>4</th>\n",
              "      <td>667</td>\n",
              "      <td>West</td>\n",
              "    </tr>\n",
              "    <tr>\n",
              "      <th>...</th>\n",
              "      <td>...</td>\n",
              "      <td>...</td>\n",
              "    </tr>\n",
              "    <tr>\n",
              "      <th>295</th>\n",
              "      <td>564</td>\n",
              "      <td>West</td>\n",
              "    </tr>\n",
              "    <tr>\n",
              "      <th>296</th>\n",
              "      <td>593</td>\n",
              "      <td>West</td>\n",
              "    </tr>\n",
              "    <tr>\n",
              "      <th>297</th>\n",
              "      <td>681</td>\n",
              "      <td>West</td>\n",
              "    </tr>\n",
              "    <tr>\n",
              "      <th>298</th>\n",
              "      <td>684</td>\n",
              "      <td>West</td>\n",
              "    </tr>\n",
              "    <tr>\n",
              "      <th>299</th>\n",
              "      <td>756</td>\n",
              "      <td>West</td>\n",
              "    </tr>\n",
              "  </tbody>\n",
              "</table>\n",
              "<p>300 rows × 2 columns</p>\n",
              "</div>"
            ],
            "text/plain": [
              "     Sales Region\n",
              "0      359   West\n",
              "1      368   West\n",
              "2      614   West\n",
              "3      641   West\n",
              "4      667   West\n",
              "..     ...    ...\n",
              "295    564   West\n",
              "296    593   West\n",
              "297    681   West\n",
              "298    684   West\n",
              "299    756   West\n",
              "\n",
              "[300 rows x 2 columns]"
            ]
          },
          "execution_count": 360,
          "metadata": {},
          "output_type": "execute_result"
        }
      ],
      "source": [
        "df"
      ]
    },
    {
      "cell_type": "code",
      "execution_count": null,
      "metadata": {},
      "outputs": [],
      "source": []
    },
    {
      "cell_type": "code",
      "execution_count": 361,
      "metadata": {},
      "outputs": [],
      "source": [
        "# import itertools\n",
        "# columns_list= ['Region', 'Partner Name']\n",
        "# # Loop through the unique combinations of column values\n",
        "# for combination in itertools.product(*(df[col].unique() for col in columns_list)):\n",
        "#     print(combination)"
      ]
    },
    {
      "cell_type": "code",
      "execution_count": 362,
      "metadata": {},
      "outputs": [],
      "source": [
        "#Sales logic.py\n",
        "import pandas as pd\n",
        "from src.Insight_logic.trigger_global_configs import Global_Checks\n",
        "import itertools\n",
        "####################ASSUMPTION: Period is same for all region and partner combination\n",
        "def get_suggestions(resdf, graph, metric, user_input, list_of_nodes, metric_list, dimension_values, dimension_data, dimension_list, list_of_columns_to_be_present_for_trigger_check, list_of_column_checks, filters = {} ):\n",
        "    responses = []\n",
        "    \n",
        "    ##1. Retrieve data from resdf or graph \n",
        "    ## 1.1 Check if all columns present in resdf\n",
        "    cols_present_in_resdf = {val['GMD Name'] : key for key, val in meta_data['dimensions'].items() if (val['GMD Name'] in list_of_columns_to_be_present_for_trigger_check and key in resdf)}\n",
        "    ## 1.2 remaining columns need to be retrieved\n",
        "    cols_not_present_in_resdf = list(set(list_of_columns_to_be_present_for_trigger_check) - set(cols_present_in_resdf.keys()))\n",
        "    \n",
        "    ## 1.3 if some columns needed for trigger check not present in resdf, retrieve data from graph\n",
        "    if cols_not_present_in_resdf:\n",
        "        \n",
        "        #check if these cols are in meta data i.e. implying their availability in graph, as metadata stores only columns present in graph\n",
        "        nodes = [key for key, val in meta_data['dimensions'].items() if (val['GMD Name'] in cols_not_present_in_resdf)]\n",
        "\n",
        "        # if any required columns are not present in graph, return no suggestions as trigger check cannot be performed, TODO: Theta checking\n",
        "        if len(nodes) < len(cols_not_present_in_resdf):\n",
        "            still_not_present = cols_not_present_in_resdf - set(nodes)\n",
        "            op = ', '.join(still_not_present)\n",
        "            return {0:{'Suggestion': f'Please provide {op} columns data in your files to get more valuable insights related to Sales', 'Filter Variables': None}}\n",
        "        \n",
        "        # Retrieve files such that all required columns are present\n",
        "        list_of_paths = find_edge_attributes_with_indirect_connections(graph, nodes+list_of_nodes)\n",
        "\n",
        "        # if there is no possible files that when merged together have all required columns, return no suggestions TODO: Theta checking\n",
        "        if not list_of_paths:\n",
        "            return {0:{'Suggestion': f'Please link Region or Partner type columns with Sales in your files to get more valuable insights related to Sales', 'Filter Variables': None}}\n",
        "        \n",
        "        # if there are possible files that when merged together have all required columns, fetch required data and apply filters similar to specified in user query \n",
        "        _, temp_df, _, _, _ = fetch_required_data_and_apply_filters(list_of_paths, user_input, metric_list, dimension_values, dimension_list)\n",
        "        \n",
        "        if dimension_data:\n",
        "            exclusions, inclusions = separate_exception_entities(user_input, dimension_values)\n",
        "            temp_df = filter_values_handler(dimension_data, inclusions, exclusions, temp_df)\n",
        "            temp_df = temp_df.reset_index(drop=True)\n",
        "        print(temp_df)\n",
        "        \n",
        "    else:\n",
        "        # if all columns present in resdf, use resdf itself as it has already required columns\n",
        "        temp_df = resdf.copy()\n",
        "    \n",
        "    ## Not used for primary suggestions, but instead used when user clicks on a suggestion and we need to dchek respective different columns for threshold \n",
        "    ## It is used for trigger column checks only, when a user clicks on a suggestion, we get filters for each column in that suggestion\n",
        "    ## for example: bestbuy sales in west region, filters = {'Region': 'west', 'Partner Name': 'Bestbuy'} if we find a pattern in sales in west region for bestbuy and user is interested in that\n",
        "    ## This will help us ensure checking for related trigger metric/dimension checks in those speciifc filters that user is interested in \n",
        "    ## Example trigger columns: WOS, Traffic for Sales based on whether sales goes up or down\n",
        "    if filters:\n",
        "        mask = pd.Series(True, index=temp_df.index)\n",
        "        for col, value in filters.items():\n",
        "            mask &= temp_df[col].isin(value)\n",
        "            # mask &= temp_df[col] == value\n",
        "        temp_df = temp_df[mask]\n",
        "    \n",
        "    # 2. Apply threshold\n",
        "\n",
        "    temp_df = temp_df.reset_index()\n",
        "    \n",
        "    # 2.1 Get column names from given metric name from gmd, NOTE: metric name is GMD name always here\n",
        "    metric_col = {key:val['GMD Name'] for key, val in meta_data['metric'].items() if val['GMD Name'] == metric and key in temp_df}\n",
        "    \n",
        "    # 2.2 Get column names from GMD names from list of columns that need to be checked for given metric\n",
        "    cols = {val['GMD Name'] : key for key, val in meta_data['dimensions'].items() if (val['GMD Name'] in list_of_column_checks and key in temp_df)}\n",
        "    cols = [cols[val] for val in list_of_column_checks if val in cols]\n",
        "    \n",
        "\n",
        "    # TODO- check if Date is monthly or on what granularity and convert to monthly or yearly based on threhold granularity\n",
        "    ## assume threshold granularity is monthly\n",
        "    cols2 = {val['GMD Name'] : key for key, val in meta_data['dimensions'].items() if (val['GMD Name'] in list_of_columns_to_be_present_for_trigger_check and key in temp_df)}\n",
        "    cols2 = [cols2[val] for val in list_of_columns_to_be_present_for_trigger_check if val in cols2]\n",
        "    \n",
        "    # Currently just to accomodate if we have more than one metric cols in resdf, which is generated from user query i.e. when user is querying for sales for laptop and mobile at same time\n",
        "    for met, gmd_name in metric_col.items():\n",
        "        temp_df2 = temp_df[list(cols2)+[met]]\n",
        "        temp_df2 = temp_df2.groupby(cols2).sum().reset_index()\n",
        "        print(temp_df2)\n",
        "        \n",
        "        # 2.3 Take all possible combinations of the columns that need to be checked for given metric from \n",
        "        for combination in itertools.product(*(temp_df2[col].unique() for col in cols)):\n",
        "            \n",
        "            threshold = Global_Checks[gmd_name]['thresholds']\n",
        "            #dig for threshold\n",
        "            try:\n",
        "                for filter_var in combination:\n",
        "                \n",
        "                    threshold = threshold[filter_var.lower()]\n",
        "            except KeyError:\n",
        "                print(f'No threshold found for {combination}')\n",
        "                continue    \n",
        "\n",
        "            #Mask to get data that satisfies given combination\n",
        "            mask = pd.Series(True, index=temp_df2.index)\n",
        "            \n",
        "            for col, value in zip(cols, combination):\n",
        "                mask &= temp_df2[col] == value\n",
        "                        \n",
        "            ## IF threshold doesn't exist for given partner and region, then continue\n",
        "            postive_thre_reaching_vals = temp_df2[(temp_df2[met] >= threshold[0]) & mask]\n",
        "            negative_thre_reaching_vals = temp_df2[(temp_df2[met] <= threshold[1]) & mask]\n",
        "            if not postive_thre_reaching_vals.empty and not negative_thre_reaching_vals.empty:\n",
        "                pass\n",
        "            elif not postive_thre_reaching_vals.empty:\n",
        "                responses.append({'Suggestion': f'Found {met} pattern for {combination}, please click here to get more info', 'Filters Info': {'Trend':'Up', 'Metric': met, 'Filter_Variables' :{k:[v] for k,v in zip(cols, combination)}, 'Associated df':postive_thre_reaching_vals}})\n",
        "            elif not negative_thre_reaching_vals.empty:\n",
        "                responses.append({'Suggestion': f'Found {met} pattern for {combination}, please click here to get more info', 'Filters Info': {'Trend':'Down', 'Metric': met, 'Filter_Variables' :{k:[v] for k,v in zip(cols, combination)}, 'Associated df':negative_thre_reaching_vals}})\n",
        "    \n",
        "    return {index: value for index, value in enumerate(responses)}"
      ]
    },
    {
      "cell_type": "code",
      "execution_count": 363,
      "metadata": {},
      "outputs": [
        {
          "name": "stdout",
          "output_type": "stream",
          "text": [
            "   Partner Name Region        Date  Sales\n",
            "0        Amazon   West  2024-01-01   2852\n",
            "1        Amazon   West  2024-02-01   3456\n",
            "2        Amazon   West  2024-03-01   4136\n",
            "3        Amazon   West  2024-04-01   4783\n",
            "4        Amazon   West  2024-05-01   5400\n",
            "5        Amazon   West  2024-06-01   6006\n",
            "6       Bestbuy   West  2024-01-01   2705\n",
            "7       Bestbuy   West  2024-02-01   3598\n",
            "8       Bestbuy   West  2024-03-01   4841\n",
            "9       Bestbuy   West  2024-04-01   5717\n",
            "10      Bestbuy   West  2024-05-01   6941\n",
            "11      Bestbuy   West  2024-06-01   7431\n",
            "12       Costco   West  2024-01-01   3228\n",
            "13       Costco   West  2024-02-01   3818\n",
            "14       Costco   West  2024-03-01   4667\n",
            "15       Costco   West  2024-04-01   5321\n",
            "16       Costco   West  2024-05-01   6269\n",
            "17       Costco   West  2024-06-01   7363\n",
            "18       Target   West  2024-01-01   2844\n",
            "19       Target   West  2024-02-01   3849\n",
            "20       Target   West  2024-03-01   4421\n",
            "21       Target   West  2024-04-01   5362\n",
            "22       Target   West  2024-05-01   6460\n",
            "23       Target   West  2024-06-01   7240\n",
            "24      Walmart   West  2024-01-01   3018\n",
            "25      Walmart   West  2024-02-01   4120\n",
            "26      Walmart   West  2024-03-01   5052\n",
            "27      Walmart   West  2024-04-01   5698\n",
            "28      Walmart   West  2024-05-01   6274\n",
            "29      Walmart   West  2024-06-01   7455\n",
            "No threshold found for ('Amazon', 'West')\n",
            "No threshold found for ('Costco', 'West')\n",
            "No threshold found for ('Target', 'West')\n"
          ]
        },
        {
          "data": {
            "text/plain": [
              "{0: {'Suggestion': \"Found Sales pattern for ('Bestbuy', 'West'), please click here to get more info\",\n",
              "  'Filters Info': {'Trend': 'Up',\n",
              "   'Metric': 'Sales',\n",
              "   'Filter_Variables': {'Partner Name': ['Bestbuy'], 'Region': ['West']},\n",
              "   'Associated df':    Partner Name Region        Date  Sales\n",
              "   11      Bestbuy   West  2024-06-01   7431}},\n",
              " 1: {'Suggestion': \"Found Sales pattern for ('Walmart', 'West'), please click here to get more info\",\n",
              "  'Filters Info': {'Trend': 'Up',\n",
              "   'Metric': 'Sales',\n",
              "   'Filter_Variables': {'Partner Name': ['Walmart'], 'Region': ['West']},\n",
              "   'Associated df':    Partner Name Region        Date  Sales\n",
              "   29      Walmart   West  2024-06-01   7455}}}"
            ]
          },
          "execution_count": 363,
          "metadata": {},
          "output_type": "execute_result"
        }
      ],
      "source": [
        "# below list in same order as in threshold file\n",
        "list_of_columns_to_be_present_for_trigger_check = ['Partner', 'Location 2', 'Date']\n",
        "list_of_column_checks = ['Partner', 'Location 2']\n",
        "\n",
        "#if sales is in metric_list i.e. user is querying regarding sales main.py\n",
        "if any([key for key, val in meta_data['metric'].items() if val['GMD Name'] == 'Sales' and key in metric_list]):\n",
        "    suggestions = get_suggestions(resdf, graph, 'Sales', user_input, list_of_nodes, metric_list, dimension_values, dimension_data, dimension_list, list_of_columns_to_be_present_for_trigger_check, list_of_column_checks)\n",
        "if any([key for key, val in meta_data['metric'].items() if val['GMD Name'] == 'Traffic' and key in metric_list]):\n",
        "    suggestions = get_suggestions(resdf, graph, 'Traffic', user_input, list_of_nodes, metric_list, dimension_values, dimension_data, dimension_list, list_of_columns_to_be_present_for_trigger_check, list_of_column_checks)\n",
        "if any([key for key, val in meta_data['metric'].items() if val['GMD Name'] == 'week of supply' and key in metric_list]):\n",
        "    suggestions = get_suggestions(resdf, graph, 'week of supply', user_input, list_of_nodes, metric_list, dimension_values, dimension_data, dimension_list, list_of_columns_to_be_present_for_trigger_check, list_of_column_checks)\n",
        "\n",
        "suggestions"
      ]
    },
    {
      "cell_type": "markdown",
      "metadata": {},
      "source": [
        "if no suggestion we check for theta thresholds"
      ]
    },
    {
      "cell_type": "code",
      "execution_count": 283,
      "metadata": {},
      "outputs": [
        {
          "data": {
            "text/html": [
              "<div>\n",
              "<style scoped>\n",
              "    .dataframe tbody tr th:only-of-type {\n",
              "        vertical-align: middle;\n",
              "    }\n",
              "\n",
              "    .dataframe tbody tr th {\n",
              "        vertical-align: top;\n",
              "    }\n",
              "\n",
              "    .dataframe thead th {\n",
              "        text-align: right;\n",
              "    }\n",
              "</style>\n",
              "<table border=\"1\" class=\"dataframe\">\n",
              "  <thead>\n",
              "    <tr style=\"text-align: right;\">\n",
              "      <th></th>\n",
              "      <th></th>\n",
              "      <th></th>\n",
              "      <th>Sales</th>\n",
              "    </tr>\n",
              "    <tr>\n",
              "      <th>Region</th>\n",
              "      <th>Partner Name</th>\n",
              "      <th>Date</th>\n",
              "      <th></th>\n",
              "    </tr>\n",
              "  </thead>\n",
              "  <tbody>\n",
              "  </tbody>\n",
              "</table>\n",
              "</div>"
            ],
            "text/plain": [
              "Empty DataFrame\n",
              "Columns: [Sales]\n",
              "Index: []"
            ]
          },
          "execution_count": 283,
          "metadata": {},
          "output_type": "execute_result"
        }
      ],
      "source": [
        "resdf[(resdf['Region']=='Midwest') & (resdf['Partner Name']=='Bestbuy')][['Region', 'Partner Name', 'Date', 'Sales']].groupby(['Region', 'Partner Name', 'Date']).sum()"
      ]
    },
    {
      "cell_type": "markdown",
      "metadata": {},
      "source": [
        "## Theta checking if not threshold match_found"
      ]
    },
    {
      "cell_type": "code",
      "execution_count": 48,
      "metadata": {},
      "outputs": [],
      "source": [
        "suggestions = [{'Suggestion': \"Test Not found\",  'Filters Info': None}]"
      ]
    },
    {
      "cell_type": "code",
      "execution_count": 49,
      "metadata": {},
      "outputs": [],
      "source": [
        "import numpy as np\n",
        "import matplotlib.pyplot as plt\n",
        "from datetime import datetime\n",
        "\n",
        "\n",
        "list_of_columns_to_be_present_for_trigger_check = ['Partner', 'Location 2', 'Date']\n",
        "list_of_column_checks = ['Partner', 'Location 2']\n",
        "theta_thresholds = {\n",
        "    'Monthly': [60,30, 10],\n",
        "    'Weekly': [60,30, 10],\n",
        "    'Daily': [60,30, 10]\n",
        "    \n",
        "}\n",
        "\n",
        "\n",
        "def min_max_scale(df_list_of_values):\n",
        "    return (df_list_of_values - np.min(df_list_of_values)) / (np.max(df_list_of_values) - np.min(df_list_of_values))\n",
        "\n",
        "def angle_check(theta, theta_thresholds):\n",
        "    if theta>=theta_thresholds[0]:\n",
        "        return 0    ##Large shift\n",
        "    if theta < theta_thresholds[0] and theta >=theta_thresholds[1]:\n",
        "        return 1    ##  possibility of medium shift if this continues for 3 continous points\n",
        "    if theta < theta_thresholds[1] and theta >= theta_thresholds[2]:\n",
        "        return 2    ## possibility of small shift if this continues for 6 continous points\n",
        "    return None\n",
        "\n",
        "def pattern_recognition_theta(thetas, ranges, freq):\n",
        "\n",
        "    large_shift = []\n",
        "    medium_shift = []\n",
        "    small_shift = []\n",
        "    \n",
        "    # fill_angle_shifts = [large_shift, medium_shift_temp, small_shift_temp]\n",
        "    #while True\n",
        "    for index in range(len(thetas)):\n",
        "        theta = thetas[index]\n",
        "        ran = ranges[index]\n",
        "        angle_check_value = angle_check(theta, theta_thresholds[freq])\n",
        "\n",
        "        if not angle_check_value:\n",
        "            continue\n",
        "        if angle_check_value == 0:\n",
        "            large_shift.append(ran)\n",
        "\n",
        "        if angle_check_value == 1:\n",
        "            if not (index+2 < len(thetas)):\n",
        "                continue\n",
        "            avg_theta_3_above = (thetas[index+2] + thetas[index+1] + thetas[index])/3\n",
        "\n",
        "            if angle_check(avg_theta_3_above, theta_thresholds[freq]) == 1:\n",
        "                medium_shift.append([ran[0], ranges[index+2][1]])\n",
        "        \n",
        "            \n",
        "        if angle_check_value == 2:\n",
        "            if not (index+5 < len(thetas)):\n",
        "                continue\n",
        "            avg_theta_6_above = (thetas[index+5] + thetas[index+4] + thetas[index+3] + thetas[index+2] + thetas[index+1] + thetas[index])/6\n",
        "            if angle_check(avg_theta_6_above, theta_thresholds[freq]) == 2:\n",
        "                small_shift.append([ran[0], ranges[index+5][1]])\n",
        "\n",
        "    return large_shift, medium_shift, small_shift\n",
        "\n",
        "        \n",
        "def do_theta_threshold_checks(metric, list_of_columns_to_be_present_for_trigger_check, list_of_column_checks, resdf, ):\n",
        "\n",
        "    ##1. Retrieve data from resdf or graph \n",
        "    ## 1.1 Check if all columns present in resdf\n",
        "    cols_present_in_resdf = {val['GMD Name'] : key for key, val in meta_data['dimensions'].items() if (val['GMD Name'] in list_of_columns_to_be_present_for_trigger_check and key in resdf)}\n",
        "    ## 1.2 remaining columns need to be retrieved\n",
        "    cols_not_present_in_resdf = list(set(list_of_columns_to_be_present_for_trigger_check) - set(cols_present_in_resdf.keys()))\n",
        "    \n",
        "    ## 1.3 if some columns needed for trigger check not present in resdf, retrieve data from graph\n",
        "    if cols_not_present_in_resdf:\n",
        "        \n",
        "        #check if these cols are in meta data i.e. implying their availability in graph, as metadata stores only columns present in graph\n",
        "        nodes = [key for key, val in meta_data['dimensions'].items() if (val['GMD Name'] in cols_not_present_in_resdf)]\n",
        "\n",
        "        # if any required columns are not present in graph, return no suggestions as trigger check cannot be performed, TODO: Theta checking\n",
        "        if len(nodes) < len(cols_not_present_in_resdf):\n",
        "            still_not_present = cols_not_present_in_resdf - set(nodes)\n",
        "            return [{'Suggestion': f'Please provide {', '.join(still_not_present)} columns data in your files to get more valuable insights related to Sales', 'Filter Variables': None}]\n",
        "        \n",
        "        # Retrieve files such that all required columns are present\n",
        "        list_of_paths = find_edge_attributes_with_indirect_connections(graph, nodes+list_of_nodes)\n",
        "\n",
        "        # if there is no possible files that when merged together have all required columns, return no suggestions TODO: Theta checking\n",
        "        if not list_of_paths:\n",
        "            return [{'Suggestion': f'Please link Region or Partner type columns with Sales in your files to get more valuable insights related to Sales', 'Filter Variables': None}]\n",
        "        \n",
        "        # if there are possible files that when merged together have all required columns, fetch required data and apply filters similar to specified in user query \n",
        "        temp_df, _, _, _ = fetch_required_data_and_apply_filters(list_of_paths, user_input, metric_list, dimension_values, dimension_list)\n",
        "\n",
        "    else:\n",
        "        # if all columns present in resdf, use resdf itself as it has already required columns\n",
        "        temp_df = resdf.copy()\n",
        "\n",
        "    # 2.1 Get column names from given metric name from gmd, NOTE: metric name is GMD name always here\n",
        "    metric_col = {key:val['GMD Name'] for key, val in meta_data['metric'].items() if val['GMD Name'] == metric and key in resdf}\n",
        "\n",
        "    # 2.2 Get column names from GMD names from list of columns that need to be checked for given metric\n",
        "    cols = {val['GMD Name'] : key for key, val in meta_data['dimensions'].items() if (val['GMD Name'] in list_of_columns_to_be_present_for_trigger_check and key in temp_df)}\n",
        "    date_col = [val['GMD Name'] for val in meta_data['dimensions'].values() if val['GMD Name'] == 'Date'][0]\n",
        "    cols = [cols[val] for val in list_of_columns_to_be_present_for_trigger_check if val in cols]\n",
        "    cols2 = {val['GMD Name'] : key for key, val in meta_data['dimensions'].items() if (val['GMD Name'] in list_of_column_checks and key in temp_df)}\n",
        "    cols2 = [cols2[val] for val in list_of_column_checks if val in cols2]\n",
        "    \n",
        "    # Currently just to accomodate if we have more than one metric cols in resdf, which is generated from user query i.e. when user is querying for sales for laptop and mobile at same time\n",
        "    for met, gmd_name in metric_col.items():\n",
        "        temp_df2 = temp_df[list(cols)+[met]]\n",
        "        temp_df2 = temp_df2.groupby(cols).sum().reset_index()\n",
        "        # 2.3 Take all possible combinations of the columns that need to be checked for given metric from \n",
        "        for combination in itertools.product(*(temp_df2[col].unique() for col in cols2)):\n",
        "\n",
        "            #Mask to get data that satisfies given combination\n",
        "            mask = pd.Series(True, index=temp_df2.index)\n",
        "            \n",
        "            for col, value in zip(cols2, combination):\n",
        "                mask &= temp_df2[col] == value\n",
        "                        \n",
        "            # df where mask is true, i.e. for particular filter of values from list_of_\n",
        "            sub_df = temp_df2[mask]\n",
        "            \n",
        "            # #plot sub_df\n",
        "\n",
        "            # Convert date column to datetime\n",
        "            dates = pd.to_datetime(sub_df[date_col], format='%Y-%m-%d', errors='coerce')\n",
        "\n",
        "            # Sort the dates\n",
        "            dates = dates.sort_values().reset_index(drop=True)\n",
        "\n",
        "            # Calculate the difference between consecutive dates\n",
        "            date_diffs = dates.diff().dropna()\n",
        "\n",
        "            # Analyze the frequency\n",
        "            if date_diffs.dt.days.mode()[0] == 1:\n",
        "                frequency = 'Daily'\n",
        "                x_time = dates.dt.day\n",
        "\n",
        "            elif date_diffs.dt.days.mode()[0] == 7:\n",
        "                frequency = 'Weekly'\n",
        "                x_time = dates.dt.isocalendar().week\n",
        "\n",
        "            elif date_diffs.dt.days.mode()[0] in range(28, 32):\n",
        "                frequency = 'Monthly'\n",
        "                x_time = dates.dt.month\n",
        "\n",
        "            elif date_diffs.dt.days.mode()[0] in range(365, 367):\n",
        "                frequency = 'Yearly'\n",
        "                x_time = dates.dt.year\n",
        "            else:\n",
        "                continue\n",
        "\n",
        "            #Check if all diff in x_time are 1:\n",
        "            if not np.all(np.diff(x_time) == 1):\n",
        "                ###CASE when a month is mssing from data of dates\n",
        "                pass\n",
        "                \n",
        "            ranges = [[dates[i], dates[i+1]] for i in range(len(dates)-1)]\n",
        "            \n",
        "            ##Scale min max\n",
        "            x_time = min_max_scale(x_time)\n",
        "\n",
        "            ##Scale min max\n",
        "            y_metric = min_max_scale(sub_df[met])\n",
        "\n",
        "\n",
        "            dx = np.diff(x_time)\n",
        "            dy = np.diff(y_metric)\n",
        "            \n",
        "            # Calculate the angles in radians, then convert to degrees\n",
        "            thetas = np.degrees(np.arctan2(dy, dx))\n",
        "            large_shift, medium_shift, small_shift = pattern_recognition_theta(thetas, ranges, frequency)\n",
        "            print(thetas)\n",
        "            print(large_shift)\n",
        "            print(medium_shift)\n",
        "            print(small_shift)"
      ]
    },
    {
      "cell_type": "code",
      "execution_count": 50,
      "metadata": {},
      "outputs": [
        {
          "name": "stdout",
          "output_type": "stream",
          "text": [
            "[43.37338911 52.74997558 42.82398337 52.32388251 27.40262095]\n",
            "[]\n",
            "[[Timestamp('2024-01-01 00:00:00'), Timestamp('2024-04-01 00:00:00')], [Timestamp('2024-02-01 00:00:00'), Timestamp('2024-05-01 00:00:00')], [Timestamp('2024-03-01 00:00:00'), Timestamp('2024-06-01 00:00:00')]]\n",
            "[]\n"
          ]
        }
      ],
      "source": [
        "if suggestions[0]['Filters Info'] == None:\n",
        "    theta_suggestions = do_theta_threshold_checks('Sales', list_of_columns_to_be_present_for_trigger_check, list_of_column_checks, resdf)"
      ]
    },
    {
      "cell_type": "code",
      "execution_count": 51,
      "metadata": {},
      "outputs": [
        {
          "name": "stdout",
          "output_type": "stream",
          "text": [
            "       Date      col1\n",
            "0  0.000000  0.000000\n",
            "1  0.333333  0.833055\n",
            "2  0.666667  0.582638\n",
            "3  1.000000  1.000000\n",
            "[0.33333333 0.33333333 0.33333333]\n",
            "[ 0.83305509 -0.25041736  0.41736227]\n"
          ]
        },
        {
          "name": "stderr",
          "output_type": "stream",
          "text": [
            "C:\\Users\\Midrian\\AppData\\Local\\Temp\\ipykernel_10404\\583229994.py:6: FutureWarning: 'M' is deprecated and will be removed in a future version, please use 'ME' instead.\n",
            "  'Date': [str(date) for date in pd.date_range(start='2023-01-01', periods=4, freq='M')],\n"
          ]
        },
        {
          "data": {
            "image/png": "[encoded data removed]",
            "text/plain": [
              "<Figure size 640x480 with 1 Axes>"
            ]
          },
          "metadata": {},
          "output_type": "display_data"
        },
        {
          "name": "stdout",
          "output_type": "stream",
          "text": [
            "Theta between point 0 and 1: 68.19°\n",
            "Theta between point 1 and 2: -36.92°\n",
            "Theta between point 2 and 3: 51.39°\n"
          ]
        }
      ],
      "source": [
        "import numpy as np\n",
        "import pandas as pd\n",
        "import matplotlib.pyplot as plt\n",
        "\n",
        "data = {\n",
        "    'Date': [str(date) for date in pd.date_range(start='2023-01-01', periods=4, freq='M')],\n",
        "    'col1': [1, 500, 350, 600]\n",
        "}\n",
        "\n",
        "\n",
        "df = pd.DataFrame(data)\n",
        "\n",
        "#convert date column to month number\n",
        "df['Date'] = pd.to_datetime(df['Date']).dt.month\n",
        "\n",
        "\n",
        "#min max scaling\n",
        "df['col1'] = (df['col1'] - df['col1'].min()) / (df['col1'].max() - df['col1'].min())\n",
        "df['Date'] = (df['Date'] - df['Date'].min()) / (df['Date'].max() - df['Date'].min())\n",
        "print(df)\n",
        "\n",
        "\n",
        "# # Convert Date to the difference in days from the first date for calculation\n",
        "# Calculate differences in x (days) and y (col1 values)\n",
        "dx = np.diff(df['Date'])\n",
        "dy = np.diff(df['col1'])\n",
        "\n",
        "print(dx)\n",
        "print(dy)\n",
        "# Calculate the angles in radians, then convert to degrees\n",
        "theta = np.arctan2(dy, dx) * 180 / np.pi\n",
        "\n",
        "# Plotting\n",
        "df.plot(x='Date', y='col1', kind='line', marker='o')\n",
        "plt.title('Date vs. col1')\n",
        "plt.xlabel('Date')\n",
        "plt.ylabel('col1')\n",
        "\n",
        "# Show the angles between points\n",
        "for i, angle in enumerate(theta):\n",
        "    plt.text(df['Date'].iloc[i+1], df['col1'].iloc[i+1], f'{angle:.2f}°', fontsize=10, ha='right')\n",
        "\n",
        "# Display the plot\n",
        "plt.show()\n",
        "\n",
        "# Display theta values\n",
        "for i, angle in enumerate(theta):\n",
        "    print(f'Theta between point {i} and {i+1}: {angle:.2f}°')\n"
      ]
    },
    {
      "cell_type": "code",
      "execution_count": 52,
      "metadata": {},
      "outputs": [],
      "source": [
        "# Min max: 0, threshold"
      ]
    },
    {
      "cell_type": "code",
      "execution_count": 53,
      "metadata": {},
      "outputs": [],
      "source": [
        "# min-max: 0, 1\n",
        "# max :  min/max, 1"
      ]
    },
    {
      "cell_type": "markdown",
      "metadata": {},
      "source": [
        "## Deep dive into a suggestion"
      ]
    },
    {
      "cell_type": "markdown",
      "metadata": {},
      "source": [
        "Display above suggestions in frontend then wait till user clicks on one of the suggestions"
      ]
    },
    {
      "cell_type": "code",
      "execution_count": 288,
      "metadata": {},
      "outputs": [],
      "source": [
        "#Main.py\n",
        "def deep_dive_into_suggestion(index):\n",
        "    #Assuming we get index from frontend\n",
        "    selected_suggestion_info = suggestions[index]['Filters Info']\n",
        "    metric = selected_suggestion_info['Metric']\n",
        "    # print(selected_suggestion_info)\n",
        "    trig_check_cols = Global_Checks[metric]['Trigger Check Columns'][selected_suggestion_info['Trend']]\n",
        "    date_col = [val['GMD Name'] for val in meta_data['dimensions'].values() if val['GMD Name'] == 'Date'][0]\n",
        "    if date_col in selected_suggestion_info['Associated df'].columns:\n",
        "        dates = selected_suggestion_info['Associated df'][date_col].to_list()\n",
        "\n",
        "    responses2 = {}\n",
        "    backend_info_for_actions = {}\n",
        "    for col in trig_check_cols:\n",
        "        #traverse through threshold dictionary to get threshold\n",
        "\n",
        "        # threshold = Global_Checks[col]['thresholds']\n",
        "        # for filter_var in selected_suggestion_info['Filter_Variables'].values():\n",
        "        #     threshold = threshold[filter_var.lower()]\n",
        "        filters  =  selected_suggestion_info['Filter_Variables']\n",
        "        filters[date_col]  =  dates\n",
        "        suggest2 = get_suggestions(resdf, graph, col, user_input, list_of_nodes, metric_list, dimension_values, dimension_data, dimension_list, list_of_columns_to_be_present_for_trigger_check, list_of_column_checks, filters = filters)\n",
        "        responses2[col] = suggest2\n",
        "        # if suggest2:\n",
        "        #     backend_info_for_actions[metric] = {'Trend': selected_suggestion_info['Trend'],\n",
        "        #                                         'Triggers': {col: suggest2[col]}}\n",
        "    return responses2   "
      ]
    },
    {
      "cell_type": "code",
      "execution_count": 289,
      "metadata": {},
      "outputs": [
        {
          "name": "stdout",
          "output_type": "stream",
          "text": [
            "['2024-06-01']\n",
            "  Partner Name Region        Date   WOS\n",
            "0      Bestbuy   West  2024-06-01  2733\n"
          ]
        },
        {
          "data": {
            "text/plain": [
              "{'week of supply': {0: {'Suggestion': \"Found WOS pattern for ('Bestbuy', 'West'), please click here to get more info\",\n",
              "   'Filters Info': {'Trend': 'Down',\n",
              "    'Metric': 'WOS',\n",
              "    'Filter_Variables': {'Partner Name': ['Bestbuy'], 'Region': ['West']},\n",
              "    'Associated df':   Partner Name Region        Date   WOS\n",
              "    0      Bestbuy   West  2024-06-01  2733}}}}"
            ]
          },
          "execution_count": 289,
          "metadata": {},
          "output_type": "execute_result"
        }
      ],
      "source": [
        "deep_dive_into_suggestion(0)"
      ]
    },
    {
      "cell_type": "code",
      "execution_count": null,
      "metadata": {},
      "outputs": [],
      "source": [
        "from server.src.Insight_logic.trigger_actions import ACTION_DICT as action_dict\n",
        "from server.src.Insight_logic.trigger_actions import *"
      ]
    },
    {
      "cell_type": "code",
      "execution_count": null,
      "metadata": {},
      "outputs": [
        {
          "name": "stdout",
          "output_type": "stream",
          "text": [
            "Up\n",
            "{'WOS': 'Down'}\n"
          ]
        },
        {
          "data": {
            "text/plain": [
              "{'Sales': {'Base_response': 'Up',\n",
              "  'Responses': {'WOS': 'Down'},\n",
              "  'Trigger Check Columns': {'WOS':              City          Territory       State Region Partner Name  \\\n",
              "   0     Anton Chico          Guadalupe  New Mexico   West      Bestbuy   \n",
              "   1     Anton Chico          Guadalupe  New Mexico   West      Bestbuy   \n",
              "   2     Anton Chico          Guadalupe  New Mexico   West      Bestbuy   \n",
              "   3     Anton Chico          Guadalupe  New Mexico   West      Bestbuy   \n",
              "   4     Anton Chico          Guadalupe  New Mexico   West      Bestbuy   \n",
              "   5     Anton Chico          Guadalupe  New Mexico   West      Bestbuy   \n",
              "   6          Conner            Ravalli     Montana   West      Bestbuy   \n",
              "   7          Conner            Ravalli     Montana   West      Bestbuy   \n",
              "   8          Conner            Ravalli     Montana   West      Bestbuy   \n",
              "   9          Conner            Ravalli     Montana   West      Bestbuy   \n",
              "   10         Conner            Ravalli     Montana   West      Bestbuy   \n",
              "   11         Conner            Ravalli     Montana   West      Bestbuy   \n",
              "   12        Corning            Steuben    Arkansas   West      Bestbuy   \n",
              "   13        Corning            Steuben    Arkansas   West      Bestbuy   \n",
              "   14        Corning            Steuben    Arkansas   West      Bestbuy   \n",
              "   15        Corning            Steuben    Arkansas   West      Bestbuy   \n",
              "   16        Corning            Steuben    Arkansas   West      Bestbuy   \n",
              "   17        Corning            Steuben    Arkansas   West      Bestbuy   \n",
              "   18         Fraser              Grand    Michigan   West      Bestbuy   \n",
              "   19         Fraser              Grand    Michigan   West      Bestbuy   \n",
              "   20         Fraser              Grand    Michigan   West      Bestbuy   \n",
              "   21         Fraser              Grand    Michigan   West      Bestbuy   \n",
              "   22         Fraser              Grand    Michigan   West      Bestbuy   \n",
              "   23         Fraser              Grand    Michigan   West      Bestbuy   \n",
              "   24   Indian Hills          Jefferson    Colorado   West      Bestbuy   \n",
              "   25   Indian Hills          Jefferson    Colorado   West      Bestbuy   \n",
              "   26   Indian Hills          Jefferson    Colorado   West      Bestbuy   \n",
              "   27   Indian Hills          Jefferson    Colorado   West      Bestbuy   \n",
              "   28   Indian Hills          Jefferson    Colorado   West      Bestbuy   \n",
              "   29   Indian Hills          Jefferson    Colorado   West      Bestbuy   \n",
              "   30   Iron Springs            Yavapai     Arizona   West      Bestbuy   \n",
              "   31   Iron Springs            Yavapai     Arizona   West      Bestbuy   \n",
              "   32   Iron Springs            Yavapai     Arizona   West      Bestbuy   \n",
              "   33   Iron Springs            Yavapai     Arizona   West      Bestbuy   \n",
              "   34   Iron Springs            Yavapai     Arizona   West      Bestbuy   \n",
              "   35   Iron Springs            Yavapai     Arizona   West      Bestbuy   \n",
              "   36      Kittredge          Jefferson    Colorado   West      Bestbuy   \n",
              "   37      Kittredge          Jefferson    Colorado   West      Bestbuy   \n",
              "   38      Kittredge          Jefferson    Colorado   West      Bestbuy   \n",
              "   39      Kittredge          Jefferson    Colorado   West      Bestbuy   \n",
              "   40      Kittredge          Jefferson    Colorado   West      Bestbuy   \n",
              "   41      Kittredge          Jefferson    Colorado   West      Bestbuy   \n",
              "   42        Seaview        Northampton    Virginia   West      Bestbuy   \n",
              "   43        Seaview        Northampton    Virginia   West      Bestbuy   \n",
              "   44        Seaview        Northampton    Virginia   West      Bestbuy   \n",
              "   45        Seaview        Northampton    Virginia   West      Bestbuy   \n",
              "   46        Seaview        Northampton    Virginia   West      Bestbuy   \n",
              "   47        Seaview        Northampton    Virginia   West      Bestbuy   \n",
              "   48  Tolovana Park            Clatsop      Oregon   West      Bestbuy   \n",
              "   49  Tolovana Park            Clatsop      Oregon   West      Bestbuy   \n",
              "   50  Tolovana Park            Clatsop      Oregon   West      Bestbuy   \n",
              "   51  Tolovana Park            Clatsop      Oregon   West      Bestbuy   \n",
              "   52  Tolovana Park            Clatsop      Oregon   West      Bestbuy   \n",
              "   53  Tolovana Park            Clatsop      Oregon   West      Bestbuy   \n",
              "   54        Wasilla  Matanuska Susitna      Alaska   West      Bestbuy   \n",
              "   55        Wasilla  Matanuska Susitna      Alaska   West      Bestbuy   \n",
              "   56        Wasilla  Matanuska Susitna      Alaska   West      Bestbuy   \n",
              "   57        Wasilla  Matanuska Susitna      Alaska   West      Bestbuy   \n",
              "   58        Wasilla  Matanuska Susitna      Alaska   West      Bestbuy   \n",
              "   59        Wasilla  Matanuska Susitna      Alaska   West      Bestbuy   \n",
              "   \n",
              "                                        Store Name        Date  Sales  WOS  \n",
              "   0   Bestbuy,Anton Chico,Guadalupe,New Mexico,US  2024-01-01    374  749  \n",
              "   1   Bestbuy,Anton Chico,Guadalupe,New Mexico,US  2024-02-01    409  749  \n",
              "   2   Bestbuy,Anton Chico,Guadalupe,New Mexico,US  2024-03-01    577  649  \n",
              "   3   Bestbuy,Anton Chico,Guadalupe,New Mexico,US  2024-04-01    655  476  \n",
              "   4   Bestbuy,Anton Chico,Guadalupe,New Mexico,US  2024-05-01    753  315  \n",
              "   5   Bestbuy,Anton Chico,Guadalupe,New Mexico,US  2024-06-01    764  286  \n",
              "   6             Bestbuy,Conner,Ravalli,Montana,US  2024-01-01    240  588  \n",
              "   7             Bestbuy,Conner,Ravalli,Montana,US  2024-02-01    553  473  \n",
              "   8             Bestbuy,Conner,Ravalli,Montana,US  2024-03-01    667  294  \n",
              "   9             Bestbuy,Conner,Ravalli,Montana,US  2024-04-01    718  290  \n",
              "   10            Bestbuy,Conner,Ravalli,Montana,US  2024-05-01    764  260  \n",
              "   11            Bestbuy,Conner,Ravalli,Montana,US  2024-06-01    788  251  \n",
              "   12          Bestbuy,Corning,Steuben,Arkansas,US  2024-01-01    225  798  \n",
              "   13          Bestbuy,Corning,Steuben,Arkansas,US  2024-02-01    266  633  \n",
              "   14          Bestbuy,Corning,Steuben,Arkansas,US  2024-03-01    288  586  \n",
              "   15          Bestbuy,Corning,Steuben,Arkansas,US  2024-04-01    337  530  \n",
              "   16          Bestbuy,Corning,Steuben,Arkansas,US  2024-05-01    720  498  \n",
              "   17          Bestbuy,Corning,Steuben,Arkansas,US  2024-06-01    797  419  \n",
              "   18             Bestbuy,Fraser,Grand,Michigan,US  2024-01-01    310  796  \n",
              "   19             Bestbuy,Fraser,Grand,Michigan,US  2024-02-01    314  681  \n",
              "   20             Bestbuy,Fraser,Grand,Michigan,US  2024-03-01    415  675  \n",
              "   21             Bestbuy,Fraser,Grand,Michigan,US  2024-04-01    549  449  \n",
              "   22             Bestbuy,Fraser,Grand,Michigan,US  2024-05-01    591  370  \n",
              "   23             Bestbuy,Fraser,Grand,Michigan,US  2024-06-01    658  307  \n",
              "   24   Bestbuy,Indian Hills,Jefferson,Colorado,US  2024-01-01    226  778  \n",
              "   25   Bestbuy,Indian Hills,Jefferson,Colorado,US  2024-02-01    294  673  \n",
              "   26   Bestbuy,Indian Hills,Jefferson,Colorado,US  2024-03-01    381  396  \n",
              "   27   Bestbuy,Indian Hills,Jefferson,Colorado,US  2024-04-01    533  377  \n",
              "   28   Bestbuy,Indian Hills,Jefferson,Colorado,US  2024-05-01    560  286  \n",
              "   29   Bestbuy,Indian Hills,Jefferson,Colorado,US  2024-06-01    599  286  \n",
              "   30      Bestbuy,Iron Springs,Yavapai,Arizona,US  2024-01-01    230  759  \n",
              "   31      Bestbuy,Iron Springs,Yavapai,Arizona,US  2024-02-01    479  634  \n",
              "   32      Bestbuy,Iron Springs,Yavapai,Arizona,US  2024-03-01    549  392  \n",
              "   33      Bestbuy,Iron Springs,Yavapai,Arizona,US  2024-04-01    635  258  \n",
              "   34      Bestbuy,Iron Springs,Yavapai,Arizona,US  2024-05-01    640  219  \n",
              "   35      Bestbuy,Iron Springs,Yavapai,Arizona,US  2024-06-01    731  211  \n",
              "   36      Bestbuy,Kittredge,Jefferson,Colorado,US  2024-01-01    206  788  \n",
              "   37      Bestbuy,Kittredge,Jefferson,Colorado,US  2024-02-01    246  742  \n",
              "   38      Bestbuy,Kittredge,Jefferson,Colorado,US  2024-03-01    291  497  \n",
              "   39      Bestbuy,Kittredge,Jefferson,Colorado,US  2024-04-01    349  349  \n",
              "   40      Bestbuy,Kittredge,Jefferson,Colorado,US  2024-05-01    773  304  \n",
              "   41      Bestbuy,Kittredge,Jefferson,Colorado,US  2024-06-01    786  226  \n",
              "   42      Bestbuy,Seaview,Northampton,Virginia,US  2024-01-01    272  452  \n",
              "   43      Bestbuy,Seaview,Northampton,Virginia,US  2024-02-01    359  422  \n",
              "   44      Bestbuy,Seaview,Northampton,Virginia,US  2024-03-01    556  305  \n",
              "   45      Bestbuy,Seaview,Northampton,Virginia,US  2024-04-01    664  295  \n",
              "   46      Bestbuy,Seaview,Northampton,Virginia,US  2024-05-01    705  263  \n",
              "   47      Bestbuy,Seaview,Northampton,Virginia,US  2024-06-01    780  245  \n",
              "   48      Bestbuy,Tolovana Park,Clatsop,Oregon,US  2024-01-01    236  699  \n",
              "   49      Bestbuy,Tolovana Park,Clatsop,Oregon,US  2024-02-01    268  621  \n",
              "   50      Bestbuy,Tolovana Park,Clatsop,Oregon,US  2024-03-01    599  516  \n",
              "   51      Bestbuy,Tolovana Park,Clatsop,Oregon,US  2024-04-01    674  379  \n",
              "   52      Bestbuy,Tolovana Park,Clatsop,Oregon,US  2024-05-01    685  345  \n",
              "   53      Bestbuy,Tolovana Park,Clatsop,Oregon,US  2024-06-01    733  253  \n",
              "   54  Bestbuy,Wasilla,Matanuska Susitna,Alaska,US  2024-01-01    386  761  \n",
              "   55  Bestbuy,Wasilla,Matanuska Susitna,Alaska,US  2024-02-01    410  719  \n",
              "   56  Bestbuy,Wasilla,Matanuska Susitna,Alaska,US  2024-03-01    518  616  \n",
              "   57  Bestbuy,Wasilla,Matanuska Susitna,Alaska,US  2024-04-01    603  528  \n",
              "   58  Bestbuy,Wasilla,Matanuska Susitna,Alaska,US  2024-05-01    750  510  \n",
              "   59  Bestbuy,Wasilla,Matanuska Susitna,Alaska,US  2024-06-01    795  249  },\n",
              "  'Base df':              City          Territory       State Region Partner Name  \\\n",
              "  0     Anton Chico          Guadalupe  New Mexico   West      Bestbuy   \n",
              "  1     Anton Chico          Guadalupe  New Mexico   West      Bestbuy   \n",
              "  2     Anton Chico          Guadalupe  New Mexico   West      Bestbuy   \n",
              "  3     Anton Chico          Guadalupe  New Mexico   West      Bestbuy   \n",
              "  4     Anton Chico          Guadalupe  New Mexico   West      Bestbuy   \n",
              "  5     Anton Chico          Guadalupe  New Mexico   West      Bestbuy   \n",
              "  6          Conner            Ravalli     Montana   West      Bestbuy   \n",
              "  7          Conner            Ravalli     Montana   West      Bestbuy   \n",
              "  8          Conner            Ravalli     Montana   West      Bestbuy   \n",
              "  9          Conner            Ravalli     Montana   West      Bestbuy   \n",
              "  10         Conner            Ravalli     Montana   West      Bestbuy   \n",
              "  11         Conner            Ravalli     Montana   West      Bestbuy   \n",
              "  12        Corning            Steuben    Arkansas   West      Bestbuy   \n",
              "  13        Corning            Steuben    Arkansas   West      Bestbuy   \n",
              "  14        Corning            Steuben    Arkansas   West      Bestbuy   \n",
              "  15        Corning            Steuben    Arkansas   West      Bestbuy   \n",
              "  16        Corning            Steuben    Arkansas   West      Bestbuy   \n",
              "  17        Corning            Steuben    Arkansas   West      Bestbuy   \n",
              "  18         Fraser              Grand    Michigan   West      Bestbuy   \n",
              "  19         Fraser              Grand    Michigan   West      Bestbuy   \n",
              "  20         Fraser              Grand    Michigan   West      Bestbuy   \n",
              "  21         Fraser              Grand    Michigan   West      Bestbuy   \n",
              "  22         Fraser              Grand    Michigan   West      Bestbuy   \n",
              "  23         Fraser              Grand    Michigan   West      Bestbuy   \n",
              "  24   Indian Hills          Jefferson    Colorado   West      Bestbuy   \n",
              "  25   Indian Hills          Jefferson    Colorado   West      Bestbuy   \n",
              "  26   Indian Hills          Jefferson    Colorado   West      Bestbuy   \n",
              "  27   Indian Hills          Jefferson    Colorado   West      Bestbuy   \n",
              "  28   Indian Hills          Jefferson    Colorado   West      Bestbuy   \n",
              "  29   Indian Hills          Jefferson    Colorado   West      Bestbuy   \n",
              "  30   Iron Springs            Yavapai     Arizona   West      Bestbuy   \n",
              "  31   Iron Springs            Yavapai     Arizona   West      Bestbuy   \n",
              "  32   Iron Springs            Yavapai     Arizona   West      Bestbuy   \n",
              "  33   Iron Springs            Yavapai     Arizona   West      Bestbuy   \n",
              "  34   Iron Springs            Yavapai     Arizona   West      Bestbuy   \n",
              "  35   Iron Springs            Yavapai     Arizona   West      Bestbuy   \n",
              "  36      Kittredge          Jefferson    Colorado   West      Bestbuy   \n",
              "  37      Kittredge          Jefferson    Colorado   West      Bestbuy   \n",
              "  38      Kittredge          Jefferson    Colorado   West      Bestbuy   \n",
              "  39      Kittredge          Jefferson    Colorado   West      Bestbuy   \n",
              "  40      Kittredge          Jefferson    Colorado   West      Bestbuy   \n",
              "  41      Kittredge          Jefferson    Colorado   West      Bestbuy   \n",
              "  42        Seaview        Northampton    Virginia   West      Bestbuy   \n",
              "  43        Seaview        Northampton    Virginia   West      Bestbuy   \n",
              "  44        Seaview        Northampton    Virginia   West      Bestbuy   \n",
              "  45        Seaview        Northampton    Virginia   West      Bestbuy   \n",
              "  46        Seaview        Northampton    Virginia   West      Bestbuy   \n",
              "  47        Seaview        Northampton    Virginia   West      Bestbuy   \n",
              "  48  Tolovana Park            Clatsop      Oregon   West      Bestbuy   \n",
              "  49  Tolovana Park            Clatsop      Oregon   West      Bestbuy   \n",
              "  50  Tolovana Park            Clatsop      Oregon   West      Bestbuy   \n",
              "  51  Tolovana Park            Clatsop      Oregon   West      Bestbuy   \n",
              "  52  Tolovana Park            Clatsop      Oregon   West      Bestbuy   \n",
              "  53  Tolovana Park            Clatsop      Oregon   West      Bestbuy   \n",
              "  54        Wasilla  Matanuska Susitna      Alaska   West      Bestbuy   \n",
              "  55        Wasilla  Matanuska Susitna      Alaska   West      Bestbuy   \n",
              "  56        Wasilla  Matanuska Susitna      Alaska   West      Bestbuy   \n",
              "  57        Wasilla  Matanuska Susitna      Alaska   West      Bestbuy   \n",
              "  58        Wasilla  Matanuska Susitna      Alaska   West      Bestbuy   \n",
              "  59        Wasilla  Matanuska Susitna      Alaska   West      Bestbuy   \n",
              "  \n",
              "                                       Store Name        Date  Sales  WOS  \n",
              "  0   Bestbuy,Anton Chico,Guadalupe,New Mexico,US  2024-01-01    374  749  \n",
              "  1   Bestbuy,Anton Chico,Guadalupe,New Mexico,US  2024-02-01    409  749  \n",
              "  2   Bestbuy,Anton Chico,Guadalupe,New Mexico,US  2024-03-01    577  649  \n",
              "  3   Bestbuy,Anton Chico,Guadalupe,New Mexico,US  2024-04-01    655  476  \n",
              "  4   Bestbuy,Anton Chico,Guadalupe,New Mexico,US  2024-05-01    753  315  \n",
              "  5   Bestbuy,Anton Chico,Guadalupe,New Mexico,US  2024-06-01    764  286  \n",
              "  6             Bestbuy,Conner,Ravalli,Montana,US  2024-01-01    240  588  \n",
              "  7             Bestbuy,Conner,Ravalli,Montana,US  2024-02-01    553  473  \n",
              "  8             Bestbuy,Conner,Ravalli,Montana,US  2024-03-01    667  294  \n",
              "  9             Bestbuy,Conner,Ravalli,Montana,US  2024-04-01    718  290  \n",
              "  10            Bestbuy,Conner,Ravalli,Montana,US  2024-05-01    764  260  \n",
              "  11            Bestbuy,Conner,Ravalli,Montana,US  2024-06-01    788  251  \n",
              "  12          Bestbuy,Corning,Steuben,Arkansas,US  2024-01-01    225  798  \n",
              "  13          Bestbuy,Corning,Steuben,Arkansas,US  2024-02-01    266  633  \n",
              "  14          Bestbuy,Corning,Steuben,Arkansas,US  2024-03-01    288  586  \n",
              "  15          Bestbuy,Corning,Steuben,Arkansas,US  2024-04-01    337  530  \n",
              "  16          Bestbuy,Corning,Steuben,Arkansas,US  2024-05-01    720  498  \n",
              "  17          Bestbuy,Corning,Steuben,Arkansas,US  2024-06-01    797  419  \n",
              "  18             Bestbuy,Fraser,Grand,Michigan,US  2024-01-01    310  796  \n",
              "  19             Bestbuy,Fraser,Grand,Michigan,US  2024-02-01    314  681  \n",
              "  20             Bestbuy,Fraser,Grand,Michigan,US  2024-03-01    415  675  \n",
              "  21             Bestbuy,Fraser,Grand,Michigan,US  2024-04-01    549  449  \n",
              "  22             Bestbuy,Fraser,Grand,Michigan,US  2024-05-01    591  370  \n",
              "  23             Bestbuy,Fraser,Grand,Michigan,US  2024-06-01    658  307  \n",
              "  24   Bestbuy,Indian Hills,Jefferson,Colorado,US  2024-01-01    226  778  \n",
              "  25   Bestbuy,Indian Hills,Jefferson,Colorado,US  2024-02-01    294  673  \n",
              "  26   Bestbuy,Indian Hills,Jefferson,Colorado,US  2024-03-01    381  396  \n",
              "  27   Bestbuy,Indian Hills,Jefferson,Colorado,US  2024-04-01    533  377  \n",
              "  28   Bestbuy,Indian Hills,Jefferson,Colorado,US  2024-05-01    560  286  \n",
              "  29   Bestbuy,Indian Hills,Jefferson,Colorado,US  2024-06-01    599  286  \n",
              "  30      Bestbuy,Iron Springs,Yavapai,Arizona,US  2024-01-01    230  759  \n",
              "  31      Bestbuy,Iron Springs,Yavapai,Arizona,US  2024-02-01    479  634  \n",
              "  32      Bestbuy,Iron Springs,Yavapai,Arizona,US  2024-03-01    549  392  \n",
              "  33      Bestbuy,Iron Springs,Yavapai,Arizona,US  2024-04-01    635  258  \n",
              "  34      Bestbuy,Iron Springs,Yavapai,Arizona,US  2024-05-01    640  219  \n",
              "  35      Bestbuy,Iron Springs,Yavapai,Arizona,US  2024-06-01    731  211  \n",
              "  36      Bestbuy,Kittredge,Jefferson,Colorado,US  2024-01-01    206  788  \n",
              "  37      Bestbuy,Kittredge,Jefferson,Colorado,US  2024-02-01    246  742  \n",
              "  38      Bestbuy,Kittredge,Jefferson,Colorado,US  2024-03-01    291  497  \n",
              "  39      Bestbuy,Kittredge,Jefferson,Colorado,US  2024-04-01    349  349  \n",
              "  40      Bestbuy,Kittredge,Jefferson,Colorado,US  2024-05-01    773  304  \n",
              "  41      Bestbuy,Kittredge,Jefferson,Colorado,US  2024-06-01    786  226  \n",
              "  42      Bestbuy,Seaview,Northampton,Virginia,US  2024-01-01    272  452  \n",
              "  43      Bestbuy,Seaview,Northampton,Virginia,US  2024-02-01    359  422  \n",
              "  44      Bestbuy,Seaview,Northampton,Virginia,US  2024-03-01    556  305  \n",
              "  45      Bestbuy,Seaview,Northampton,Virginia,US  2024-04-01    664  295  \n",
              "  46      Bestbuy,Seaview,Northampton,Virginia,US  2024-05-01    705  263  \n",
              "  47      Bestbuy,Seaview,Northampton,Virginia,US  2024-06-01    780  245  \n",
              "  48      Bestbuy,Tolovana Park,Clatsop,Oregon,US  2024-01-01    236  699  \n",
              "  49      Bestbuy,Tolovana Park,Clatsop,Oregon,US  2024-02-01    268  621  \n",
              "  50      Bestbuy,Tolovana Park,Clatsop,Oregon,US  2024-03-01    599  516  \n",
              "  51      Bestbuy,Tolovana Park,Clatsop,Oregon,US  2024-04-01    674  379  \n",
              "  52      Bestbuy,Tolovana Park,Clatsop,Oregon,US  2024-05-01    685  345  \n",
              "  53      Bestbuy,Tolovana Park,Clatsop,Oregon,US  2024-06-01    733  253  \n",
              "  54  Bestbuy,Wasilla,Matanuska Susitna,Alaska,US  2024-01-01    386  761  \n",
              "  55  Bestbuy,Wasilla,Matanuska Susitna,Alaska,US  2024-02-01    410  719  \n",
              "  56  Bestbuy,Wasilla,Matanuska Susitna,Alaska,US  2024-03-01    518  616  \n",
              "  57  Bestbuy,Wasilla,Matanuska Susitna,Alaska,US  2024-04-01    603  528  \n",
              "  58  Bestbuy,Wasilla,Matanuska Susitna,Alaska,US  2024-05-01    750  510  \n",
              "  59  Bestbuy,Wasilla,Matanuska Susitna,Alaska,US  2024-06-01    795  249  ,\n",
              "  'Threshold Reached df':              City          Territory       State Region Partner Name  \\\n",
              "  4     Anton Chico          Guadalupe  New Mexico   West      Bestbuy   \n",
              "  5     Anton Chico          Guadalupe  New Mexico   West      Bestbuy   \n",
              "  9          Conner            Ravalli     Montana   West      Bestbuy   \n",
              "  10         Conner            Ravalli     Montana   West      Bestbuy   \n",
              "  11         Conner            Ravalli     Montana   West      Bestbuy   \n",
              "  16        Corning            Steuben    Arkansas   West      Bestbuy   \n",
              "  17        Corning            Steuben    Arkansas   West      Bestbuy   \n",
              "  35   Iron Springs            Yavapai     Arizona   West      Bestbuy   \n",
              "  40      Kittredge          Jefferson    Colorado   West      Bestbuy   \n",
              "  41      Kittredge          Jefferson    Colorado   West      Bestbuy   \n",
              "  46        Seaview        Northampton    Virginia   West      Bestbuy   \n",
              "  47        Seaview        Northampton    Virginia   West      Bestbuy   \n",
              "  53  Tolovana Park            Clatsop      Oregon   West      Bestbuy   \n",
              "  58        Wasilla  Matanuska Susitna      Alaska   West      Bestbuy   \n",
              "  59        Wasilla  Matanuska Susitna      Alaska   West      Bestbuy   \n",
              "  \n",
              "                                       Store Name        Date  Sales  WOS  \n",
              "  4   Bestbuy,Anton Chico,Guadalupe,New Mexico,US  2024-05-01    753  315  \n",
              "  5   Bestbuy,Anton Chico,Guadalupe,New Mexico,US  2024-06-01    764  286  \n",
              "  9             Bestbuy,Conner,Ravalli,Montana,US  2024-04-01    718  290  \n",
              "  10            Bestbuy,Conner,Ravalli,Montana,US  2024-05-01    764  260  \n",
              "  11            Bestbuy,Conner,Ravalli,Montana,US  2024-06-01    788  251  \n",
              "  16          Bestbuy,Corning,Steuben,Arkansas,US  2024-05-01    720  498  \n",
              "  17          Bestbuy,Corning,Steuben,Arkansas,US  2024-06-01    797  419  \n",
              "  35      Bestbuy,Iron Springs,Yavapai,Arizona,US  2024-06-01    731  211  \n",
              "  40      Bestbuy,Kittredge,Jefferson,Colorado,US  2024-05-01    773  304  \n",
              "  41      Bestbuy,Kittredge,Jefferson,Colorado,US  2024-06-01    786  226  \n",
              "  46      Bestbuy,Seaview,Northampton,Virginia,US  2024-05-01    705  263  \n",
              "  47      Bestbuy,Seaview,Northampton,Virginia,US  2024-06-01    780  245  \n",
              "  53      Bestbuy,Tolovana Park,Clatsop,Oregon,US  2024-06-01    733  253  \n",
              "  58  Bestbuy,Wasilla,Matanuska Susitna,Alaska,US  2024-05-01    750  510  \n",
              "  59  Bestbuy,Wasilla,Matanuska Susitna,Alaska,US  2024-06-01    795  249  }}"
            ]
          },
          "execution_count": 64,
          "metadata": {},
          "output_type": "execute_result"
        }
      ],
      "source": [
        "overall_response = {}\n",
        "for check in to_be_checked:\n",
        "    if check in metric_list and check in company_checks:\n",
        "        responses = {}\n",
        "        base_resp = None\n",
        "        temp_df = df[df[check].notna()]\n",
        "        \n",
        "        temp1df = df[(temp_df[check] >= company_checks[check]['threshold'][0])]  # +ive check\n",
        "        temp2_df = df[(temp_df[check] <= company_checks[check]['threshold'][1])]  # -ive check\n",
        "        \n",
        "        if not temp1df.empty and not temp2_df.empty:\n",
        "            # responses[check]=company_checks[check]['Response'][2]\n",
        "            if 'Date' in temp1df.columns and 'Date' in temp2_df.columns:\n",
        "                #which date is latest\n",
        "                if temp1df['Date'].max() > temp2_df['Date'].max():\n",
        "                    base_resp= 'Up'\n",
        "                    thres_df= temp1df\n",
        "                else:\n",
        "                    base_resp= 'Down'\n",
        "                    thres_df= temp2_df\n",
        "            else:\n",
        "                # base_resp=company_checks[check]['Response'][2]\n",
        "                continue\n",
        "        \n",
        "        elif not temp1df.empty and temp2_df.empty:\n",
        "            # responses.append(company_checks[check]['Response'][0])\n",
        "            base_resp='Up'\n",
        "            thres_df= temp1df\n",
        "        \n",
        "        elif temp1df.empty and not temp2_df.empty:\n",
        "            # responses.append(company_checks[check]['Response'][1])\n",
        "            base_resp='Down'\n",
        "            thres_df= temp2_df\n",
        "        \n",
        "        if base_resp and base_resp in company_checks[check]['Trigger Check Columns'].keys():\n",
        "            \n",
        "            #Trigger an alert\n",
        "            print(base_resp)\n",
        "        \n",
        "            trigger_check_cols = company_checks[check]['Trigger Check Columns'][base_resp]\n",
        "            # list_of_nodes = list(set(list_of_nodes))\n",
        "            \n",
        "            temp_list_of_paths = find_partial_edge_attributes(graph, trigger_check_cols + list_of_nodes)\n",
        "            \n",
        "            # print(list_of_nodes)\n",
        "            unfiltered_check_df, _, _, _ = fetch_required_data_and_apply_filters(temp_list_of_paths, user_input, metric_list, dimension_values, dimension_list)\n",
        "            \n",
        "            if dimension_data:\n",
        "                exclusions, inclusions = separate_exception_entities(user_input, dimension_values)\n",
        "                check_df = filter_values_handler(dimension_data, inclusions, exclusions, unfiltered_check_df)\n",
        "                check_df = check_df.reset_index(drop=True)\n",
        "            \n",
        "            if check_df.empty:\n",
        "                continue\n",
        "            \n",
        "            trig_check_col_resp = {}\n",
        "\n",
        "            for trigger_check_item in company_checks[check]['Trigger Check Columns'][base_resp]:\n",
        "\n",
        "                if trigger_check_item in check_df.columns:\n",
        "                    trg_pos_check = check_df[(check_df[trigger_check_item] >= company_checks[trigger_check_item]['threshold'][0]) & (check_df[trigger_check_item].notna())] \n",
        "                    trg_neg_check = check_df[(check_df[trigger_check_item] <= company_checks[trigger_check_item]['threshold'][1]) & (check_df[trigger_check_item].notna())]\n",
        "                    \n",
        "                    if not trg_pos_check.empty and not trg_neg_check.empty:\n",
        "                        #Place holder\n",
        "                        # continue\n",
        "                        # responses.append(company_checks[trigger_check_item]['Response'][2])\n",
        "                        responses[trigger_check_item]='Both'\n",
        "\n",
        "\n",
        "                    elif not trg_pos_check.empty and trg_neg_check.empty:\n",
        "                        # responses.append(company_checks[trigger_check_item]['Response'][0])\n",
        "                        responses[trigger_check_item]='Up'\n",
        "                        trig_check_col_resp[trigger_check_item] = trg_pos_check\n",
        "\n",
        "                    elif trg_pos_check.empty and not trg_neg_check.empty:\n",
        "                        # responses.append(company_checks[trigger_check_item]['Response'][1])\n",
        "                        responses[trigger_check_item]='Down'\n",
        "                        trig_check_col_resp[trigger_check_item] = trg_neg_check\n",
        "\n",
        "            overall_response[check] = {\n",
        "                'Base_response': base_resp,\n",
        "                'Responses': responses,\n",
        "                'Trigger Check Columns': trig_check_col_resp,\n",
        "                'Base df' : check_df,\n",
        "                'Threshold Reached df': thres_df \n",
        "                               }\n",
        "            print(responses)\n",
        "            # print('Unfiltered df ', unfiltered_check_df)\n",
        "            # Response Actions\n",
        "            base_chek_resp = action_dict[check][base_resp]\n",
        "\n",
        "overall_response"
      ]
    },
    {
      "cell_type": "code",
      "execution_count": null,
      "metadata": {},
      "outputs": [
        {
          "name": "stdout",
          "output_type": "stream",
          "text": [
            "West\n",
            "          City Territory State Region Partner Name  \\\n",
            "660  Beaverdam     Allen  Ohio  South      Bestbuy   \n",
            "\n",
            "                          Store Name        Date  Sales  WOS  \n",
            "660  Bestbuy,Beaverdam,Allen,Ohio,US  2024-01-01    334  798  \n"
          ]
        }
      ],
      "source": [
        "def action_taker(overall_responsem, action_dict):\n",
        "    output_suggestions = {}\n",
        "    for check in overall_response:\n",
        "        base_resp = overall_response[check]['Base_response']\n",
        "        for key, value in overall_response[check]['Responses'].items():\n",
        "\n",
        "            base_check_resp = action_dict[check][base_resp]\n",
        "            \n",
        "            if key in base_check_resp.keys():\n",
        "                res = base_check_resp[key][value](df=unfiltered_check_df, dimension_data=dimension_data, exclusions = exclusions, inclusions = inclusions, meta_data = meta_data)\n",
        "                print(res)\n",
        "                if not key in output_suggestions.keys():\n",
        "                    output_suggestions[check+ ' ' + base_resp] = {key + ' ' + value: res}\n",
        "                else:\n",
        "                    output_suggestions[check + ' ' + base_resp][key + ' ' + value] = res\n",
        "    return output_suggestions\n",
        "\n",
        "res = action_taker(overall_response, action_dict)"
      ]
    },
    {
      "cell_type": "code",
      "execution_count": null,
      "metadata": {},
      "outputs": [
        {
          "data": {
            "text/plain": [
              "dict_keys(['Sales Up'])"
            ]
          },
          "execution_count": 66,
          "metadata": {},
          "output_type": "execute_result"
        }
      ],
      "source": [
        "res.keys()"
      ]
    },
    {
      "cell_type": "code",
      "execution_count": null,
      "metadata": {},
      "outputs": [
        {
          "data": {
            "text/html": [
              "<div>\n",
              "<style scoped>\n",
              "    .dataframe tbody tr th:only-of-type {\n",
              "        vertical-align: middle;\n",
              "    }\n",
              "\n",
              "    .dataframe tbody tr th {\n",
              "        vertical-align: top;\n",
              "    }\n",
              "\n",
              "    .dataframe thead th {\n",
              "        text-align: right;\n",
              "    }\n",
              "</style>\n",
              "<table border=\"1\" class=\"dataframe\">\n",
              "  <thead>\n",
              "    <tr style=\"text-align: right;\">\n",
              "      <th></th>\n",
              "      <th>City</th>\n",
              "      <th>Territory</th>\n",
              "      <th>State</th>\n",
              "      <th>Region</th>\n",
              "      <th>Partner Name</th>\n",
              "      <th>Store Name</th>\n",
              "      <th>Date</th>\n",
              "      <th>Sales</th>\n",
              "      <th>WOS</th>\n",
              "    </tr>\n",
              "  </thead>\n",
              "  <tbody>\n",
              "    <tr>\n",
              "      <th>660</th>\n",
              "      <td>Beaverdam</td>\n",
              "      <td>Allen</td>\n",
              "      <td>Ohio</td>\n",
              "      <td>South</td>\n",
              "      <td>Bestbuy</td>\n",
              "      <td>Bestbuy,Beaverdam,Allen,Ohio,US</td>\n",
              "      <td>2024-01-01</td>\n",
              "      <td>334</td>\n",
              "      <td>798</td>\n",
              "    </tr>\n",
              "  </tbody>\n",
              "</table>\n",
              "</div>"
            ],
            "text/plain": [
              "          City Territory State Region Partner Name  \\\n",
              "660  Beaverdam     Allen  Ohio  South      Bestbuy   \n",
              "\n",
              "                          Store Name        Date  Sales  WOS  \n",
              "660  Bestbuy,Beaverdam,Allen,Ohio,US  2024-01-01    334  798  "
            ]
          },
          "execution_count": 67,
          "metadata": {},
          "output_type": "execute_result"
        }
      ],
      "source": [
        "res['Sales Up']['WOS Down']"
      ]
    },
    {
      "cell_type": "code",
      "execution_count": null,
      "metadata": {},
      "outputs": [
        {
          "data": {
            "text/plain": [
              "{'Sales Up': {'WOS Down':           City Territory State Region Partner Name  \\\n",
              "  660  Beaverdam     Allen  Ohio  South      Bestbuy   \n",
              "  \n",
              "                            Store Name        Date  Sales  WOS  \n",
              "  660  Bestbuy,Beaverdam,Allen,Ohio,US  2024-01-01    334  798  }}"
            ]
          },
          "execution_count": 68,
          "metadata": {},
          "output_type": "execute_result"
        }
      ],
      "source": [
        "res"
      ]
    },
    {
      "cell_type": "markdown",
      "metadata": {},
      "source": [
        "# If not Trigger checks :-  does aggregation and applies grouby and sorting"
      ]
    },
    {
      "cell_type": "code",
      "execution_count": 40,
      "metadata": {},
      "outputs": [],
      "source": [
        "df = df[list_of_nodes]\n"
      ]
    },
    {
      "cell_type": "code",
      "execution_count": 41,
      "metadata": {},
      "outputs": [],
      "source": [
        "# if date_node:\n",
        "#     df = df[df[date_node[0]].notna()]\n",
        "#     df[date_node[0]] = pd.to_datetime(df['Date'], format=\"%Y-%m-%d\", errors='coerce')\n",
        "#     #filter by start and end date\n",
        "#     df = df[(df[date_node[0]] >= start_date) & (df[date_node[0]] <= end_date)]\n",
        "#     list_to_groupby.append(date_node)"
      ]
    },
    {
      "cell_type": "code",
      "execution_count": 42,
      "metadata": {},
      "outputs": [
        {
          "data": {
            "text/html": [
              "<div>\n",
              "<style scoped>\n",
              "    .dataframe tbody tr th:only-of-type {\n",
              "        vertical-align: middle;\n",
              "    }\n",
              "\n",
              "    .dataframe tbody tr th {\n",
              "        vertical-align: top;\n",
              "    }\n",
              "\n",
              "    .dataframe thead th {\n",
              "        text-align: right;\n",
              "    }\n",
              "</style>\n",
              "<table border=\"1\" class=\"dataframe\">\n",
              "  <thead>\n",
              "    <tr style=\"text-align: right;\">\n",
              "      <th></th>\n",
              "      <th>Product Name</th>\n",
              "    </tr>\n",
              "  </thead>\n",
              "  <tbody>\n",
              "    <tr>\n",
              "      <th>0</th>\n",
              "      <td>Asus Zenbook</td>\n",
              "    </tr>\n",
              "    <tr>\n",
              "      <th>1</th>\n",
              "      <td>Asus TUF Gaming</td>\n",
              "    </tr>\n",
              "    <tr>\n",
              "      <th>2</th>\n",
              "      <td>HP Envy x360</td>\n",
              "    </tr>\n",
              "    <tr>\n",
              "      <th>3</th>\n",
              "      <td>Samsung Galaxybook</td>\n",
              "    </tr>\n",
              "    <tr>\n",
              "      <th>4</th>\n",
              "      <td>Microsoft Surface Pro</td>\n",
              "    </tr>\n",
              "    <tr>\n",
              "      <th>5</th>\n",
              "      <td>Apple Macbook Pro</td>\n",
              "    </tr>\n",
              "    <tr>\n",
              "      <th>6</th>\n",
              "      <td>Lenovo Legion</td>\n",
              "    </tr>\n",
              "    <tr>\n",
              "      <th>7</th>\n",
              "      <td>Lenovo Yoga</td>\n",
              "    </tr>\n",
              "    <tr>\n",
              "      <th>8</th>\n",
              "      <td>Acer Aspire</td>\n",
              "    </tr>\n",
              "  </tbody>\n",
              "</table>\n",
              "</div>"
            ],
            "text/plain": [
              "            Product Name\n",
              "0           Asus Zenbook\n",
              "1        Asus TUF Gaming\n",
              "2           HP Envy x360\n",
              "3     Samsung Galaxybook\n",
              "4  Microsoft Surface Pro\n",
              "5      Apple Macbook Pro\n",
              "6          Lenovo Legion\n",
              "7            Lenovo Yoga\n",
              "8            Acer Aspire"
            ]
          },
          "execution_count": 42,
          "metadata": {},
          "output_type": "execute_result"
        }
      ],
      "source": [
        "df"
      ]
    },
    {
      "cell_type": "code",
      "execution_count": 43,
      "metadata": {},
      "outputs": [
        {
          "name": "stdout",
          "output_type": "stream",
          "text": [
            "No numeric present\n",
            "            Product Name\n",
            "0           Asus Zenbook\n",
            "1        Asus TUF Gaming\n",
            "2           HP Envy x360\n",
            "3     Samsung Galaxybook\n",
            "4  Microsoft Surface Pro\n",
            "5      Apple Macbook Pro\n",
            "6          Lenovo Legion\n",
            "7            Lenovo Yoga\n",
            "8            Acer Aspire\n"
          ]
        },
        {
          "data": {
            "text/html": [
              "<div>\n",
              "<style scoped>\n",
              "    .dataframe tbody tr th:only-of-type {\n",
              "        vertical-align: middle;\n",
              "    }\n",
              "\n",
              "    .dataframe tbody tr th {\n",
              "        vertical-align: top;\n",
              "    }\n",
              "\n",
              "    .dataframe thead th {\n",
              "        text-align: right;\n",
              "    }\n",
              "</style>\n",
              "<table border=\"1\" class=\"dataframe\">\n",
              "  <thead>\n",
              "    <tr style=\"text-align: right;\">\n",
              "      <th></th>\n",
              "      <th>Product Name</th>\n",
              "    </tr>\n",
              "  </thead>\n",
              "  <tbody>\n",
              "    <tr>\n",
              "      <th>0</th>\n",
              "      <td>Acer Aspire</td>\n",
              "    </tr>\n",
              "    <tr>\n",
              "      <th>1</th>\n",
              "      <td>Apple Macbook Pro</td>\n",
              "    </tr>\n",
              "    <tr>\n",
              "      <th>2</th>\n",
              "      <td>Asus TUF Gaming</td>\n",
              "    </tr>\n",
              "    <tr>\n",
              "      <th>3</th>\n",
              "      <td>Asus Zenbook</td>\n",
              "    </tr>\n",
              "    <tr>\n",
              "      <th>4</th>\n",
              "      <td>HP Envy x360</td>\n",
              "    </tr>\n",
              "    <tr>\n",
              "      <th>5</th>\n",
              "      <td>Lenovo Legion</td>\n",
              "    </tr>\n",
              "    <tr>\n",
              "      <th>6</th>\n",
              "      <td>Lenovo Yoga</td>\n",
              "    </tr>\n",
              "    <tr>\n",
              "      <th>7</th>\n",
              "      <td>Microsoft Surface Pro</td>\n",
              "    </tr>\n",
              "    <tr>\n",
              "      <th>8</th>\n",
              "      <td>Samsung Galaxybook</td>\n",
              "    </tr>\n",
              "  </tbody>\n",
              "</table>\n",
              "</div>"
            ],
            "text/plain": [
              "            Product Name\n",
              "0            Acer Aspire\n",
              "1      Apple Macbook Pro\n",
              "2        Asus TUF Gaming\n",
              "3           Asus Zenbook\n",
              "4           HP Envy x360\n",
              "5          Lenovo Legion\n",
              "6            Lenovo Yoga\n",
              "7  Microsoft Surface Pro\n",
              "8     Samsung Galaxybook"
            ]
          },
          "execution_count": 43,
          "metadata": {},
          "output_type": "execute_result"
        }
      ],
      "source": [
        "#Grouping, comparisons and aggregation\n",
        "if list_to_groupby:\n",
        "    list_to_groupby = list(set(list_to_groupby))\n",
        "    #check if any column is numeric and not date, object or string\n",
        "    numeric_columns = df.select_dtypes(include=[int, float]) \\\n",
        "                    .columns.difference(df.select_dtypes(include=['datetime', 'object', 'string']).columns)\n",
        "    \n",
        "    if not numeric_columns.empty:\n",
        "        #if user defines an aggregation, use it\n",
        "        if aggregations:\n",
        "            #Assumption: if an entity say sales is asked in query then it is only asked like  sales >/</= 5000 or avg/agg sales </>/= 5000\n",
        "            # not like avg sales where sales are greater than 5000 \n",
        "            \n",
        "            for col in df.columns:\n",
        "                if col not in aggregations and col in numeric_columns:\n",
        "                    aggregations[col] = 'sum'\n",
        "            df = df.groupby(list_to_groupby).agg(aggregations).reset_index()\n",
        "\n",
        "            if after_comp:\n",
        "                df = comparison_handler(after_comp, df)\n",
        "                \n",
        "        else:\n",
        "            #else use sum as default\n",
        "            df = df.groupby(list_to_groupby).sum().reset_index()\n",
        "    else:\n",
        "        #if there are no numeric columns then take first from groupby\n",
        "        print('No numeric present')\n",
        "        print(df)\n",
        "        df = df.groupby(list_to_groupby).first().reset_index()\n",
        "else:\n",
        "    # df = df.sum().reset_index()\n",
        "    numeric_columns = df.select_dtypes(include=[int, float]) \\\n",
        "                    .columns.difference(df.select_dtypes(include=['datetime', 'object', 'string']).columns)\n",
        "    rem_cols = list(df.columns.difference(numeric_columns))\n",
        "    \n",
        "\n",
        "    if not numeric_columns.empty:\n",
        "        #if user defines an aggregation, use it\n",
        "        if aggregations:\n",
        "            #Assumption: if an entity say sales is asked in query then it is only asked like  sales >/</= 5000 or avg/agg sales </>/= 5000\n",
        "            # not like avg sales where sales are greater than 5000 \n",
        "            \n",
        "            for col in df.columns:\n",
        "                if col not in aggregations and col in numeric_columns:\n",
        "                    aggregations[col] = 'sum'\n",
        "            if rem_cols:\n",
        "                df = df.groupby(rem_cols).agg(aggregations).reset_index()\n",
        "            else:\n",
        "                df = df.agg(aggregations).reset_index()\n",
        "\n",
        "            if after_comp:\n",
        "                df = comparison_handler(after_comp, df)\n",
        "                \n",
        "        else:\n",
        "            #else use sum as default\n",
        "            if rem_cols:\n",
        "                df = df.groupby(rem_cols).sum().reset_index()\n",
        "            else:\n",
        "                # df = df.sum().reset_index()\n",
        "                # df = df.agg({col: 'sum' for col in df.columns if col != 'index'}).reset_index(drop=True)\n",
        "                df = df.agg(['sum']).reset_index(drop=True)\n",
        "df"
      ]
    },
    {
      "cell_type": "code",
      "execution_count": 179,
      "metadata": {},
      "outputs": [],
      "source": [
        "# user_input = 'What are all partner in descending order'"
      ]
    },
    {
      "cell_type": "code",
      "execution_count": 200,
      "metadata": {},
      "outputs": [
        {
          "data": {
            "text/html": [
              "<div>\n",
              "<style scoped>\n",
              "    .dataframe tbody tr th:only-of-type {\n",
              "        vertical-align: middle;\n",
              "    }\n",
              "\n",
              "    .dataframe tbody tr th {\n",
              "        vertical-align: top;\n",
              "    }\n",
              "\n",
              "    .dataframe thead th {\n",
              "        text-align: right;\n",
              "    }\n",
              "</style>\n",
              "<table border=\"1\" class=\"dataframe\">\n",
              "  <thead>\n",
              "    <tr style=\"text-align: right;\">\n",
              "      <th></th>\n",
              "      <th>Partner Name</th>\n",
              "      <th>Region</th>\n",
              "    </tr>\n",
              "  </thead>\n",
              "  <tbody>\n",
              "    <tr>\n",
              "      <th>0</th>\n",
              "      <td>Bestbuy</td>\n",
              "      <td>Midwest</td>\n",
              "    </tr>\n",
              "  </tbody>\n",
              "</table>\n",
              "</div>"
            ],
            "text/plain": [
              "  Partner Name   Region\n",
              "0      Bestbuy  Midwest"
            ]
          },
          "execution_count": 200,
          "metadata": {},
          "output_type": "execute_result"
        }
      ],
      "source": [
        "#sorting and giving top or bottom n if asked\n",
        "top_or_bottom_n = extract_top_or_bottom_n(user_input)\n",
        "\n",
        "df = df.sort_values(by = list(metric_list.keys())).reset_index(drop=True)\n",
        "\n",
        "if top_or_bottom_n:\n",
        "    # if top_or_bottom_n[0]=='top':\n",
        "    #     df = df.sort_values(by = list(metric_list.keys())).reset_index(drop=True)\n",
        "    if top_or_bottom_n[0]=='bottom':\n",
        "        if metric_list:\n",
        "            df = df.sort_values(by = list(metric_list.keys()), ascending=False).reset_index(drop=True)\n",
        "        else:\n",
        "            df = df.sort_values(by = list(df.columns), ascending=False).reset_index(drop=True)\n",
        "    if top_or_bottom_n[1] is None:\n",
        "        top_or_bottom_n[1] = len(df)\n",
        "    df = df.head(top_or_bottom_n[1]).reset_index(drop=True)\n",
        "df"
      ]
    },
    {
      "cell_type": "code",
      "execution_count": 159,
      "metadata": {},
      "outputs": [
        {
          "name": "stdout",
          "output_type": "stream",
          "text": [
            "{'a': 1, 'c': 3}\n"
          ]
        }
      ],
      "source": [
        "my_dict = {'a': 1, 'b': 2, 'c': 3}\n",
        "removed_value = {}\n",
        "# Remove a key-value pair if the key exists\n",
        "key_to_remove = 'b'\n",
        "removed_value[key_to_remove] = my_dict.pop(key_to_remove, None)\n",
        "\n",
        "print(my_dict)  # Output will be {'a': 1, 'c': 3}\n"
      ]
    },
    {
      "cell_type": "code",
      "execution_count": 141,
      "metadata": {},
      "outputs": [
        {
          "data": {
            "text/plain": [
              "['bottom', 5]"
            ]
          },
          "execution_count": 141,
          "metadata": {},
          "output_type": "execute_result"
        }
      ],
      "source": [
        "top_or_bottom_n"
      ]
    },
    {
      "cell_type": "markdown",
      "metadata": {},
      "source": [
        "# Why Logic"
      ]
    },
    {
      "cell_type": "code",
      "execution_count": 207,
      "metadata": {},
      "outputs": [],
      "source": [
        "user_input = 'How are sales so high in bestbuy in west region'"
      ]
    },
    {
      "cell_type": "code",
      "execution_count": 208,
      "metadata": {},
      "outputs": [
        {
          "data": {
            "text/plain": [
              "True"
            ]
          },
          "execution_count": 208,
          "metadata": {},
          "output_type": "execute_result"
        }
      ],
      "source": [
        "def identify_why(user_input):\n",
        "    why_regex = r'\\b(?:why|how)\\b|\\b(?:what)\\b.*(?:happened|occurred|caused|made|the reason)'\n",
        "    why_regex = re.compile(why_regex, re.IGNORECASE)\n",
        "    why_res = re.findall(why_regex, user_input)\n",
        "    if why_res:\n",
        "        return True\n",
        "    return False\n",
        "\n",
        "identify_why(user_input)"
      ]
    },
    {
      "cell_type": "code",
      "execution_count": 209,
      "metadata": {},
      "outputs": [],
      "source": [
        "def identify_trend_in_query(user_input):\n",
        "    # trend_regex = r'\\b(?:high|low|increasing|decreasing|up|down|incrementing|reduced)\\b'\n",
        "    up_trend_regex= r'\\b(?:highe?r?s?t?|increase?s?i?n?g?s?|up|incrementi?n?g?s?)\\b'\n",
        "    down_trend_regex = r'\\b(?:lowe?r?s?t?|decrease?i?n?g?s?|down|reduce?d?i?n?g?s?|decrements?i?n?g?)\\b'\n",
        "\n",
        "    up_trend_res = re.findall(up_trend_regex, user_input)\n",
        "    down_trend_res = re.findall(down_trend_regex, user_input)\n",
        "    if up_trend_res:\n",
        "        return 'Up'\n",
        "    if down_trend_res:\n",
        "        return 'Down'\n",
        "\n",
        "trend = identify_trend_in_query(user_input)"
      ]
    },
    {
      "cell_type": "code",
      "execution_count": 210,
      "metadata": {},
      "outputs": [
        {
          "data": {
            "text/plain": [
              "{'Sales': ['sales', 'sales?']}"
            ]
          },
          "execution_count": 210,
          "metadata": {},
          "output_type": "execute_result"
        }
      ],
      "source": [
        "metric_list = fetch_for_metric(user_input)\n",
        "metric_list"
      ]
    },
    {
      "cell_type": "code",
      "execution_count": 211,
      "metadata": {},
      "outputs": [
        {
          "data": {
            "text/plain": [
              "({'Region': {'Value': ['West']}, 'Partner Name': {'Value': ['Bestbuy']}},\n",
              " ['West', 'Bestbuy'])"
            ]
          },
          "execution_count": 211,
          "metadata": {},
          "output_type": "execute_result"
        }
      ],
      "source": [
        "dimension_data, dimension_values = fetch_for_specific_dimension(user_input)\n",
        "dimension_data, dimension_values"
      ]
    },
    {
      "cell_type": "code",
      "execution_count": 212,
      "metadata": {},
      "outputs": [
        {
          "data": {
            "text/plain": [
              "{'Region': ['region']}"
            ]
          },
          "execution_count": 212,
          "metadata": {},
          "output_type": "execute_result"
        }
      ],
      "source": [
        "dimension_list = fetch_for_dimension_name(user_input)\n",
        "dimension_list"
      ]
    },
    {
      "cell_type": "code",
      "execution_count": 213,
      "metadata": {},
      "outputs": [
        {
          "data": {
            "text/plain": [
              "['Sales', 'Partner Name', 'Region']"
            ]
          },
          "execution_count": 213,
          "metadata": {},
          "output_type": "execute_result"
        }
      ],
      "source": [
        "list_of_nodes = list(set(list(metric_list.keys()) + list(dimension_list.keys()) + list(dimension_data.keys())))\n",
        "list_of_nodes"
      ]
    },
    {
      "cell_type": "code",
      "execution_count": 214,
      "metadata": {},
      "outputs": [
        {
          "data": {
            "text/plain": [
              "['Dummy_data_wos_sales.csv']"
            ]
          },
          "execution_count": 214,
          "metadata": {},
          "output_type": "execute_result"
        }
      ],
      "source": [
        "list_of_paths = find_edge_attributes_with_indirect_connections(graph, list_of_nodes)\n",
        "list_of_paths"
      ]
    },
    {
      "cell_type": "code",
      "execution_count": 215,
      "metadata": {},
      "outputs": [
        {
          "data": {
            "text/html": [
              "<div>\n",
              "<style scoped>\n",
              "    .dataframe tbody tr th:only-of-type {\n",
              "        vertical-align: middle;\n",
              "    }\n",
              "\n",
              "    .dataframe tbody tr th {\n",
              "        vertical-align: top;\n",
              "    }\n",
              "\n",
              "    .dataframe thead th {\n",
              "        text-align: right;\n",
              "    }\n",
              "</style>\n",
              "<table border=\"1\" class=\"dataframe\">\n",
              "  <thead>\n",
              "    <tr style=\"text-align: right;\">\n",
              "      <th></th>\n",
              "      <th>City</th>\n",
              "      <th>Territory</th>\n",
              "      <th>State</th>\n",
              "      <th>Region</th>\n",
              "      <th>Partner Name</th>\n",
              "      <th>Store Name</th>\n",
              "      <th>Date</th>\n",
              "      <th>Sales</th>\n",
              "      <th>WOS</th>\n",
              "    </tr>\n",
              "  </thead>\n",
              "  <tbody>\n",
              "    <tr>\n",
              "      <th>0</th>\n",
              "      <td>Alberton</td>\n",
              "      <td>Mineral</td>\n",
              "      <td>Montana</td>\n",
              "      <td>West</td>\n",
              "      <td>Target</td>\n",
              "      <td>Target,Alberton,Mineral,Montana,US</td>\n",
              "      <td>2024-01-01</td>\n",
              "      <td>209</td>\n",
              "      <td>706</td>\n",
              "    </tr>\n",
              "    <tr>\n",
              "      <th>1</th>\n",
              "      <td>Alberton</td>\n",
              "      <td>Mineral</td>\n",
              "      <td>Montana</td>\n",
              "      <td>West</td>\n",
              "      <td>Target</td>\n",
              "      <td>Target,Alberton,Mineral,Montana,US</td>\n",
              "      <td>2024-02-01</td>\n",
              "      <td>214</td>\n",
              "      <td>661</td>\n",
              "    </tr>\n",
              "    <tr>\n",
              "      <th>2</th>\n",
              "      <td>Alberton</td>\n",
              "      <td>Mineral</td>\n",
              "      <td>Montana</td>\n",
              "      <td>West</td>\n",
              "      <td>Target</td>\n",
              "      <td>Target,Alberton,Mineral,Montana,US</td>\n",
              "      <td>2024-03-01</td>\n",
              "      <td>223</td>\n",
              "      <td>548</td>\n",
              "    </tr>\n",
              "    <tr>\n",
              "      <th>3</th>\n",
              "      <td>Alberton</td>\n",
              "      <td>Mineral</td>\n",
              "      <td>Montana</td>\n",
              "      <td>West</td>\n",
              "      <td>Target</td>\n",
              "      <td>Target,Alberton,Mineral,Montana,US</td>\n",
              "      <td>2024-04-01</td>\n",
              "      <td>277</td>\n",
              "      <td>518</td>\n",
              "    </tr>\n",
              "    <tr>\n",
              "      <th>4</th>\n",
              "      <td>Alberton</td>\n",
              "      <td>Mineral</td>\n",
              "      <td>Montana</td>\n",
              "      <td>West</td>\n",
              "      <td>Target</td>\n",
              "      <td>Target,Alberton,Mineral,Montana,US</td>\n",
              "      <td>2024-05-01</td>\n",
              "      <td>722</td>\n",
              "      <td>291</td>\n",
              "    </tr>\n",
              "    <tr>\n",
              "      <th>...</th>\n",
              "      <td>...</td>\n",
              "      <td>...</td>\n",
              "      <td>...</td>\n",
              "      <td>...</td>\n",
              "      <td>...</td>\n",
              "      <td>...</td>\n",
              "      <td>...</td>\n",
              "      <td>...</td>\n",
              "      <td>...</td>\n",
              "    </tr>\n",
              "    <tr>\n",
              "      <th>1195</th>\n",
              "      <td>Winthrop</td>\n",
              "      <td>Suffolk</td>\n",
              "      <td>Massachusetts</td>\n",
              "      <td>West</td>\n",
              "      <td>Target</td>\n",
              "      <td>Target,Winthrop,Suffolk,Massachusetts,US</td>\n",
              "      <td>2024-02-01</td>\n",
              "      <td>374</td>\n",
              "      <td>772</td>\n",
              "    </tr>\n",
              "    <tr>\n",
              "      <th>1196</th>\n",
              "      <td>Winthrop</td>\n",
              "      <td>Suffolk</td>\n",
              "      <td>Massachusetts</td>\n",
              "      <td>West</td>\n",
              "      <td>Target</td>\n",
              "      <td>Target,Winthrop,Suffolk,Massachusetts,US</td>\n",
              "      <td>2024-03-01</td>\n",
              "      <td>495</td>\n",
              "      <td>731</td>\n",
              "    </tr>\n",
              "    <tr>\n",
              "      <th>1197</th>\n",
              "      <td>Winthrop</td>\n",
              "      <td>Suffolk</td>\n",
              "      <td>Massachusetts</td>\n",
              "      <td>West</td>\n",
              "      <td>Target</td>\n",
              "      <td>Target,Winthrop,Suffolk,Massachusetts,US</td>\n",
              "      <td>2024-04-01</td>\n",
              "      <td>516</td>\n",
              "      <td>623</td>\n",
              "    </tr>\n",
              "    <tr>\n",
              "      <th>1198</th>\n",
              "      <td>Winthrop</td>\n",
              "      <td>Suffolk</td>\n",
              "      <td>Massachusetts</td>\n",
              "      <td>West</td>\n",
              "      <td>Target</td>\n",
              "      <td>Target,Winthrop,Suffolk,Massachusetts,US</td>\n",
              "      <td>2024-05-01</td>\n",
              "      <td>539</td>\n",
              "      <td>559</td>\n",
              "    </tr>\n",
              "    <tr>\n",
              "      <th>1199</th>\n",
              "      <td>Winthrop</td>\n",
              "      <td>Suffolk</td>\n",
              "      <td>Massachusetts</td>\n",
              "      <td>West</td>\n",
              "      <td>Target</td>\n",
              "      <td>Target,Winthrop,Suffolk,Massachusetts,US</td>\n",
              "      <td>2024-06-01</td>\n",
              "      <td>620</td>\n",
              "      <td>414</td>\n",
              "    </tr>\n",
              "  </tbody>\n",
              "</table>\n",
              "<p>1200 rows × 9 columns</p>\n",
              "</div>"
            ],
            "text/plain": [
              "          City Territory          State Region Partner Name  \\\n",
              "0     Alberton   Mineral        Montana   West       Target   \n",
              "1     Alberton   Mineral        Montana   West       Target   \n",
              "2     Alberton   Mineral        Montana   West       Target   \n",
              "3     Alberton   Mineral        Montana   West       Target   \n",
              "4     Alberton   Mineral        Montana   West       Target   \n",
              "...        ...       ...            ...    ...          ...   \n",
              "1195  Winthrop   Suffolk  Massachusetts   West       Target   \n",
              "1196  Winthrop   Suffolk  Massachusetts   West       Target   \n",
              "1197  Winthrop   Suffolk  Massachusetts   West       Target   \n",
              "1198  Winthrop   Suffolk  Massachusetts   West       Target   \n",
              "1199  Winthrop   Suffolk  Massachusetts   West       Target   \n",
              "\n",
              "                                    Store Name        Date  Sales  WOS  \n",
              "0           Target,Alberton,Mineral,Montana,US  2024-01-01    209  706  \n",
              "1           Target,Alberton,Mineral,Montana,US  2024-02-01    214  661  \n",
              "2           Target,Alberton,Mineral,Montana,US  2024-03-01    223  548  \n",
              "3           Target,Alberton,Mineral,Montana,US  2024-04-01    277  518  \n",
              "4           Target,Alberton,Mineral,Montana,US  2024-05-01    722  291  \n",
              "...                                        ...         ...    ...  ...  \n",
              "1195  Target,Winthrop,Suffolk,Massachusetts,US  2024-02-01    374  772  \n",
              "1196  Target,Winthrop,Suffolk,Massachusetts,US  2024-03-01    495  731  \n",
              "1197  Target,Winthrop,Suffolk,Massachusetts,US  2024-04-01    516  623  \n",
              "1198  Target,Winthrop,Suffolk,Massachusetts,US  2024-05-01    539  559  \n",
              "1199  Target,Winthrop,Suffolk,Massachusetts,US  2024-06-01    620  414  \n",
              "\n",
              "[1200 rows x 9 columns]"
            ]
          },
          "execution_count": 215,
          "metadata": {},
          "output_type": "execute_result"
        }
      ],
      "source": [
        "from src.Utils.Config import DATA_FOLDER\n",
        "\n",
        "dfs = [pd.read_csv(os.path.join('src/', DATA_FOLDER, file_name)) for file_name in list_of_paths]\n",
        "\n",
        "#Outerjoin on common columns\n",
        "df, _ = outer_join_all_columns(dfs)\n",
        "df"
      ]
    },
    {
      "cell_type": "code",
      "execution_count": 216,
      "metadata": {},
      "outputs": [
        {
          "data": {
            "text/plain": [
              "['City',\n",
              " 'Territory',\n",
              " 'State',\n",
              " 'Region',\n",
              " 'Partner Name',\n",
              " 'Store Name',\n",
              " 'Date',\n",
              " 'Sales',\n",
              " 'WOS']"
            ]
          },
          "execution_count": 216,
          "metadata": {},
          "output_type": "execute_result"
        }
      ],
      "source": [
        "fetched_columns = df.columns.to_list()\n",
        "\n",
        "fetched_columns"
      ]
    },
    {
      "cell_type": "markdown",
      "metadata": {},
      "source": [
        "Have the user select columns he wants from above that he is interested in () we displays columns with specified value as filled in it as we have been given through query"
      ]
    },
    {
      "cell_type": "code",
      "execution_count": 217,
      "metadata": {},
      "outputs": [],
      "source": [
        "user_selected = ['City', 'Territory', 'State', 'Region', 'Partner Name', 'Date']\n",
        "user_selected_gmd_names = [val['GMD Name'] for key, val in meta_data['dimensions'].items() if (key in user_selected)]\n"
      ]
    },
    {
      "cell_type": "code",
      "execution_count": 218,
      "metadata": {},
      "outputs": [
        {
          "data": {
            "text/plain": [
              "{'Region': ['West'], 'Partner Name': ['Bestbuy']}"
            ]
          },
          "execution_count": 218,
          "metadata": {},
          "output_type": "execute_result"
        }
      ],
      "source": [
        "filters = {key :val['Value'] for key, val in dimension_data.items()}\n",
        "filters"
      ]
    },
    {
      "cell_type": "code",
      "execution_count": 219,
      "metadata": {},
      "outputs": [],
      "source": [
        "from src.Insight_logic.suggestions_config import GLOBAL_COLUMNS_LIST_FOR_METRIC_THRESHOLD_CHECKS"
      ]
    },
    {
      "cell_type": "code",
      "execution_count": 227,
      "metadata": {},
      "outputs": [
        {
          "data": {
            "text/plain": [
              "set()"
            ]
          },
          "execution_count": 227,
          "metadata": {},
          "output_type": "execute_result"
        }
      ],
      "source": [
        "set(req_cols_for_combo_check) - set(user_selected_gmd_names)"
      ]
    },
    {
      "cell_type": "code",
      "execution_count": 220,
      "metadata": {},
      "outputs": [
        {
          "data": {
            "text/plain": [
              "{'Traffic': 'Positive'}"
            ]
          },
          "execution_count": 220,
          "metadata": {},
          "output_type": "execute_result"
        }
      ],
      "source": [
        "\n",
        "##\n",
        "from src.Insight_logic.why_logic.cause_and_effect import GLOBAL_CAUSES\n",
        "\n",
        "\n",
        "checks = GLOBAL_CAUSES[[key for key, val in meta_data['metric'].items() if val['GMD Name'] == 'Sales' and key in metric_list][0]][trend]\n",
        "checks"
      ]
    },
    {
      "cell_type": "code",
      "execution_count": null,
      "metadata": {},
      "outputs": [],
      "source": []
    },
    {
      "cell_type": "code",
      "execution_count": 233,
      "metadata": {},
      "outputs": [
        {
          "name": "stdout",
          "output_type": "stream",
          "text": [
            "     Ice Id  Store Id        Date  Week Partner Name    Traffic  \\\n",
            "0         9         9  2024-01-01  37.0      Bestbuy  7088864.0   \n",
            "1         9         9  2024-01-01  37.0      Bestbuy  7088864.0   \n",
            "2         9         9  2024-01-01  37.0      Bestbuy  7088864.0   \n",
            "3         9         9  2024-01-01  37.0      Bestbuy  7088864.0   \n",
            "4         9         9  2024-01-01  37.0      Bestbuy  7088864.0   \n",
            "..      ...       ...         ...   ...          ...        ...   \n",
            "615     292       292  2024-06-01  32.0      Bestbuy  9859712.0   \n",
            "616     292       292  2024-06-01  32.0      Bestbuy  9859712.0   \n",
            "617     292       292  2024-06-01  32.0      Bestbuy  9859712.0   \n",
            "618     292       292  2024-06-01  32.0      Bestbuy  9859712.0   \n",
            "619     292       292  2024-06-01  32.0      Bestbuy  9859712.0   \n",
            "\n",
            "               Price Segment Brand Product Name Launch Date  ...  \\\n",
            "0    Budget Friendly Segment  Acer  Acer Aspire  2024-02-04  ...   \n",
            "1    Budget Friendly Segment  Acer  Acer Aspire  2024-02-04  ...   \n",
            "2    Budget Friendly Segment  Acer  Acer Aspire  2024-02-04  ...   \n",
            "3    Budget Friendly Segment  Acer  Acer Aspire  2024-02-04  ...   \n",
            "4    Budget Friendly Segment  Acer  Acer Aspire  2024-02-04  ...   \n",
            "..                       ...   ...          ...         ...  ...   \n",
            "615                      NaN   NaN          NaN         NaN  ...   \n",
            "616                      NaN   NaN          NaN         NaN  ...   \n",
            "617                      NaN   NaN          NaN         NaN  ...   \n",
            "618                      NaN   NaN          NaN         NaN  ...   \n",
            "619                      NaN   NaN          NaN         NaN  ...   \n",
            "\n",
            "     Effective Offer MSRP ASP           City          Territory       State  \\\n",
            "0                NaN  NaN NaN    Anton Chico          Guadalupe  New Mexico   \n",
            "1                NaN  NaN NaN         Conner            Ravalli     Montana   \n",
            "2                NaN  NaN NaN        Corning            Steuben    Arkansas   \n",
            "3                NaN  NaN NaN         Fraser              Grand    Michigan   \n",
            "4                NaN  NaN NaN   Indian Hills          Jefferson    Colorado   \n",
            "..               ...  ...  ..            ...                ...         ...   \n",
            "615              NaN  NaN NaN   Iron Springs            Yavapai     Arizona   \n",
            "616              NaN  NaN NaN      Kittredge          Jefferson    Colorado   \n",
            "617              NaN  NaN NaN        Seaview        Northampton    Virginia   \n",
            "618              NaN  NaN NaN  Tolovana Park            Clatsop      Oregon   \n",
            "619              NaN  NaN NaN        Wasilla  Matanuska Susitna      Alaska   \n",
            "\n",
            "    Region                                   Store Name  Sales    WOS  \n",
            "0     West  Bestbuy,Anton Chico,Guadalupe,New Mexico,US  374.0  749.0  \n",
            "1     West            Bestbuy,Conner,Ravalli,Montana,US  240.0  588.0  \n",
            "2     West          Bestbuy,Corning,Steuben,Arkansas,US  225.0  798.0  \n",
            "3     West             Bestbuy,Fraser,Grand,Michigan,US  310.0  796.0  \n",
            "4     West   Bestbuy,Indian Hills,Jefferson,Colorado,US  226.0  778.0  \n",
            "..     ...                                          ...    ...    ...  \n",
            "615   West      Bestbuy,Iron Springs,Yavapai,Arizona,US  731.0  211.0  \n",
            "616   West      Bestbuy,Kittredge,Jefferson,Colorado,US  786.0  226.0  \n",
            "617   West      Bestbuy,Seaview,Northampton,Virginia,US  780.0  245.0  \n",
            "618   West      Bestbuy,Tolovana Park,Clatsop,Oregon,US  733.0  253.0  \n",
            "619   West  Bestbuy,Wasilla,Matanuska Susitna,Alaska,US  795.0  249.0  \n",
            "\n",
            "[620 rows x 22 columns]\n",
            "  Partner Name Region Launch Date     Traffic\n",
            "0      Bestbuy   West  2024-02-04  70888640.0\n"
          ]
        }
      ],
      "source": [
        "results = {}\n",
        "for check, correlation in checks.items():\n",
        "\n",
        "    list_of_columns_to_be_present_for_trigger_check, list_of_column_checks = GLOBAL_COLUMNS_LIST_FOR_METRIC_THRESHOLD_CHECKS[check]\n",
        "    #check if \n",
        "    if list(set(list_of_columns_to_be_present_for_trigger_check) - set(user_selected_gmd_names)) or list(set(list_of_column_checks) - set(user_selected_gmd_names)):\n",
        "        print(list(set(list_of_columns_to_be_present_for_trigger_check) - set(user_selected_gmd_names)))\n",
        "        print(list(set(list_of_column_checks) - set(user_selected_gmd_names)))\n",
        "        \n",
        "        continue\n",
        "    \n",
        "    suggestions = get_suggestions(pd.DataFrame(), graph, 'Traffic', user_input, list_of_nodes, metric_list, dimension_values, dimension_data, dimension_list, list_of_columns_to_be_present_for_trigger_check, list_of_column_checks, filters)\n",
        "    if not suggestions or not suggestions[0]['Filters Info']:\n",
        "        #Theta checking\n",
        "        suggestions = do_theta_threshold_checks(check, list_of_columns_to_be_present_for_trigger_check, list_of_column_checks, pd.DataFrame())\n",
        "    if any([suggestions[i]['Filters Info']['Trend']==trend for i in range(len(suggestions))]):\n",
        "        results[check] = suggestions"
      ]
    },
    {
      "cell_type": "code",
      "execution_count": 234,
      "metadata": {},
      "outputs": [
        {
          "data": {
            "text/plain": [
              "{'Traffic': {0: {'Suggestion': \"Found Traffic pattern for ('Bestbuy', 'West'), please click here to get more info\",\n",
              "   'Filters Info': {'Trend': 'Up',\n",
              "    'Metric': 'Traffic',\n",
              "    'Filter_Variables': {'Partner Name': ['Bestbuy'], 'Region': ['West']},\n",
              "    'Associated df':   Partner Name Region Launch Date     Traffic\n",
              "    0      Bestbuy   West  2024-02-04  70888640.0}}}}"
            ]
          },
          "execution_count": 234,
          "metadata": {},
          "output_type": "execute_result"
        }
      ],
      "source": [
        "results"
      ]
    },
    {
      "cell_type": "markdown",
      "metadata": {},
      "source": []
    },
    {
      "cell_type": "markdown",
      "metadata": {},
      "source": [
        "# Ignore"
      ]
    },
    {
      "cell_type": "code",
      "execution_count": null,
      "metadata": {},
      "outputs": [],
      "source": [
        "list_of_paths"
      ]
    },
    {
      "cell_type": "code",
      "execution_count": null,
      "metadata": {},
      "outputs": [],
      "source": [
        "dfs = [pd.read_csv(f'test_data_19_Aug/{path}', ) for path in list_of_paths]\n",
        "# merged_df = pd.DataFrame()\n",
        "\n",
        "#Outerjoin on common columns\n",
        "merged_df = outer_join_all_columns(dfs)\n",
        "# filter_cols = list(set(list(merged_df)) - set(list_of_nodes))\n",
        "# subset_df = merged_df[list_of_nodes]"
      ]
    },
    {
      "cell_type": "code",
      "execution_count": null,
      "metadata": {},
      "outputs": [],
      "source": [
        "merged_df"
      ]
    },
    {
      "cell_type": "code",
      "execution_count": null,
      "metadata": {},
      "outputs": [],
      "source": [
        "# dfs[1]"
      ]
    },
    {
      "cell_type": "code",
      "execution_count": null,
      "metadata": {},
      "outputs": [],
      "source": [
        "merged_df"
      ]
    },
    {
      "cell_type": "code",
      "execution_count": null,
      "metadata": {},
      "outputs": [],
      "source": [
        "# subset_df"
      ]
    },
    {
      "cell_type": "code",
      "execution_count": null,
      "metadata": {},
      "outputs": [],
      "source": [
        "# df = merged_df.copy()"
      ]
    },
    {
      "cell_type": "code",
      "execution_count": null,
      "metadata": {},
      "outputs": [],
      "source": [
        "# df"
      ]
    },
    {
      "cell_type": "code",
      "execution_count": null,
      "metadata": {},
      "outputs": [],
      "source": [
        "exclusions, inclusions = separate_exception_entities(user_input, dimension_values)\n",
        "print('Exclusions: ', exclusions)\n",
        "print('inclusions: ', inclusions)"
      ]
    },
    {
      "cell_type": "code",
      "execution_count": null,
      "metadata": {},
      "outputs": [],
      "source": [
        "# dimension_values"
      ]
    },
    {
      "cell_type": "code",
      "execution_count": null,
      "metadata": {},
      "outputs": [],
      "source": [
        "col_w_regex = {key: metric_list.get(key, []) + dimension_list.get(key, []) for key in metric_list.keys() | dimension_list.keys()}\n",
        "\n",
        "col_w_regex"
      ]
    },
    {
      "cell_type": "code",
      "execution_count": null,
      "metadata": {},
      "outputs": [],
      "source": [
        "aggregations = extract_aggregations(user_input, col_w_regex)\n",
        "aggregations"
      ]
    },
    {
      "cell_type": "code",
      "execution_count": null,
      "metadata": {},
      "outputs": [],
      "source": [
        "comparisons = extract_comparisons(user_input, col_w_regex)\n",
        "comparisons"
      ]
    },
    {
      "cell_type": "code",
      "execution_count": null,
      "metadata": {},
      "outputs": [],
      "source": [
        "if comparisons:\n",
        "    df = comparison_handler(comparisons, df)\n",
        "df"
      ]
    },
    {
      "cell_type": "code",
      "execution_count": null,
      "metadata": {},
      "outputs": [],
      "source": [
        "dimension_values"
      ]
    },
    {
      "cell_type": "code",
      "execution_count": null,
      "metadata": {},
      "outputs": [],
      "source": [
        "# filters = {}\n",
        "list_to_groupby = []\n",
        "\n",
        "#Cases: If dimension Data is present in query, then filter df for those values\n",
        "if dimension_data:\n",
        "    exclusions, inclusions = separate_exception_entities(user_input, dimension_values)\n",
        "    df = filter_values_handler(dimension_data, inclusions, exclusions, df)\n",
        "    list_to_groupby+= list(dimension_data.keys())\n",
        "if dimension_list:\n",
        "    list_to_groupby+= dimension_list\n",
        "df"
      ]
    },
    {
      "cell_type": "code",
      "execution_count": null,
      "metadata": {},
      "outputs": [],
      "source": [
        "comparisons"
      ]
    },
    {
      "cell_type": "code",
      "execution_count": null,
      "metadata": {},
      "outputs": [],
      "source": [
        "after_comp =[]\n",
        "before_comp = []\n",
        "if aggregations:\n",
        "    #Assumption: if an entity say sales is asked in query then it is only asked like  sales >/</= 5000 or avg/agg sales </>/= 5000\n",
        "    # not like avg sales where sales are greater than 5000 \n",
        "    for comp in comparisons:\n",
        "        if comp[0] in aggregations:\n",
        "            after_comp.append(comp)\n",
        "        else:\n",
        "            before_comp.append(comp)\n",
        "    \n",
        "else:\n",
        "    before_comp = comparisons\n",
        "\n",
        "if before_comp:\n",
        "    df = comparison_handler(before_comp, df)\n"
      ]
    },
    {
      "cell_type": "code",
      "execution_count": null,
      "metadata": {},
      "outputs": [],
      "source": [
        "# aggregations"
      ]
    },
    {
      "cell_type": "code",
      "execution_count": null,
      "metadata": {},
      "outputs": [],
      "source": [
        "# metric_list"
      ]
    },
    {
      "cell_type": "code",
      "execution_count": null,
      "metadata": {},
      "outputs": [],
      "source": [
        "# sales_threshold = 92170.0\n",
        "# sales_triger_check_cols = ['Traffic']\n",
        "\n",
        "# if 'Sales' in metric_list:\n",
        "#     tempdf = df[df['Sales'] >= sales_threshold]\n",
        "#     if not tempdf.empty:\n",
        "#         #Trigger an alert\n",
        "#         list_of_nodes += sales_triger_check_cols\n",
        "        "
      ]
    },
    {
      "cell_type": "code",
      "execution_count": null,
      "metadata": {},
      "outputs": [],
      "source": [
        "#Columns Filter\n",
        "df = df[list_of_nodes]\n",
        "df"
      ]
    },
    {
      "cell_type": "code",
      "execution_count": null,
      "metadata": {},
      "outputs": [],
      "source": [
        "#Grouping, comparisons and aggregation\n",
        "if list_to_groupby:\n",
        "    list_to_groupby = list(set(list_to_groupby))\n",
        "    #check if any column is numeric and not date, object or string\n",
        "    numeric_columns = df.select_dtypes(include=[int, float]) \\\n",
        "                    .columns.difference(df.select_dtypes(include=['datetime', 'object', 'string']).columns)\n",
        "    \n",
        "    if not numeric_columns.empty:\n",
        "        #if user defines an aggregation, use it\n",
        "        if aggregations:\n",
        "            #Assumption: if an entity say sales is asked in query then it is only asked like  sales >/</= 5000 or avg/agg sales </>/= 5000\n",
        "            # not like avg sales where sales are greater than 5000 \n",
        "            \n",
        "            for col in df.columns:\n",
        "                if col not in aggregations and col in numeric_columns:\n",
        "                    aggregations[col] = 'sum'\n",
        "            df = df.groupby(list_to_groupby).agg(aggregations).reset_index()\n",
        "\n",
        "            if after_comp:\n",
        "                df = comparison_handler(after_comp, df)\n",
        "                \n",
        "        else:\n",
        "            #else use sum as default\n",
        "            df = df.groupby(list_to_groupby).sum().reset_index()\n",
        "    else:\n",
        "        #if there are no numeric columns then take first from groupby\n",
        "        print('No numeric present')\n",
        "        print(df)\n",
        "        df = df.groupby(list_to_groupby).first().reset_index()\n",
        "df"
      ]
    },
    {
      "cell_type": "code",
      "execution_count": null,
      "metadata": {},
      "outputs": [],
      "source": [
        "#sorting and giving top or bottom n if asked\n",
        "top_or_bottom_n = extract_top_or_bottom_n(user_input)\n",
        "\n",
        "df = df.sort_values(by = list(metric_list.keys())).reset_index(drop=True)\n",
        "\n",
        "if top_or_bottom_n:\n",
        "    # if top_or_bottom_n[0]=='top':\n",
        "    #     df = df.sort_values(by = list(metric_list.keys())).reset_index(drop=True)\n",
        "    if top_or_bottom_n[0]=='bottom':\n",
        "        df = df.sort_values(by = list(metric_list.keys()), ascending=False).reset_index(drop=True)\n",
        "    if top_or_bottom_n[1] is None:\n",
        "        top_or_bottom_n[1] = len(df)\n",
        "    df = df.head(top_or_bottom_n[1]).reset_index(drop=True)\n",
        "df"
      ]
    },
    {
      "cell_type": "code",
      "execution_count": null,
      "metadata": {},
      "outputs": [],
      "source": [
        "top_or_bottom_n"
      ]
    },
    {
      "cell_type": "code",
      "execution_count": null,
      "metadata": {},
      "outputs": [],
      "source": []
    }
  ],
  "metadata": {
    "kernelspec": {
      "display_name": "torchenvpy312",
      "language": "python",
      "name": "python3"
    },
    "language_info": {
      "codemirror_mode": {
        "name": "ipython",
        "version": 3
      },
      "file_extension": ".py",
      "mimetype": "text/x-python",
      "name": "python",
      "nbconvert_exporter": "python",
      "pygments_lexer": "ipython3",
      "version": "3.12.5"
    }
  },
  "nbformat": 4,
  "nbformat_minor": 2
}
